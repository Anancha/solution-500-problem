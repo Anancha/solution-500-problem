{
 "cells": [
  {
   "cell_type": "markdown",
   "metadata": {
    "id": "j90J8d3OFl-u"
   },
   "source": [
    "# -------------------- Numeric --------------------"
   ]
  },
  {
   "cell_type": "markdown",
   "metadata": {
    "id": "SbJhBf68Fl-4"
   },
   "source": [
    "## Question1"
   ]
  },
  {
   "cell_type": "code",
   "execution_count": null,
   "metadata": {
    "colab": {
     "base_uri": "https://localhost:8080/"
    },
    "executionInfo": {
     "elapsed": 5011,
     "status": "ok",
     "timestamp": 1616137656005,
     "user": {
      "displayName": "Tautology Madebyai",
      "photoUrl": "https://lh3.googleusercontent.com/a-/AOh14GgIuxJTOXeU2g-OcdBfWS1NSCgofk20ST_TdkDm=s64",
      "userId": "06969950300190082095"
     },
     "user_tz": -420
    },
    "id": "gBFGZbx9Fl-5",
    "outputId": "8b8939a1-1ae1-4045-94af-08b787e3a2f8"
   },
   "outputs": [
    {
     "name": "stdout",
     "output_type": "stream",
     "text": [
      "5\n",
      "<class 'int'>\n"
     ]
    }
   ],
   "source": [
    "numeric1 = 5\n",
    "print(numeric1)\n",
    "print(type(numeric1))"
   ]
  },
  {
   "cell_type": "markdown",
   "metadata": {
    "id": "-se7YRSoFl-6"
   },
   "source": [
    "## Question2"
   ]
  },
  {
   "cell_type": "code",
   "execution_count": null,
   "metadata": {
    "colab": {
     "base_uri": "https://localhost:8080/"
    },
    "executionInfo": {
     "elapsed": 7028,
     "status": "ok",
     "timestamp": 1616137658075,
     "user": {
      "displayName": "Tautology Madebyai",
      "photoUrl": "https://lh3.googleusercontent.com/a-/AOh14GgIuxJTOXeU2g-OcdBfWS1NSCgofk20ST_TdkDm=s64",
      "userId": "06969950300190082095"
     },
     "user_tz": -420
    },
    "id": "EMQ3gQb5Fl-7",
    "outputId": "273f86df-3d9f-49f3-a8d2-2eb778de9868"
   },
   "outputs": [
    {
     "name": "stdout",
     "output_type": "stream",
     "text": [
      "-3\n",
      "<class 'int'>\n"
     ]
    }
   ],
   "source": [
    "numeric2 = -3\n",
    "print(numeric2)\n",
    "print(type(numeric2))"
   ]
  },
  {
   "cell_type": "markdown",
   "metadata": {
    "id": "4Vw8OK9AFl-8"
   },
   "source": [
    "## Question3"
   ]
  },
  {
   "cell_type": "code",
   "execution_count": null,
   "metadata": {
    "colab": {
     "base_uri": "https://localhost:8080/"
    },
    "executionInfo": {
     "elapsed": 6976,
     "status": "ok",
     "timestamp": 1616137658075,
     "user": {
      "displayName": "Tautology Madebyai",
      "photoUrl": "https://lh3.googleusercontent.com/a-/AOh14GgIuxJTOXeU2g-OcdBfWS1NSCgofk20ST_TdkDm=s64",
      "userId": "06969950300190082095"
     },
     "user_tz": -420
    },
    "id": "d83wVHC1Fl-8",
    "outputId": "30d404b2-0428-4744-fa1a-1d127f6cf176"
   },
   "outputs": [
    {
     "name": "stdout",
     "output_type": "stream",
     "text": [
      "0\n",
      "<class 'int'>\n"
     ]
    }
   ],
   "source": [
    "numeric3 = 0\n",
    "print(numeric3)\n",
    "print(type(numeric3))"
   ]
  },
  {
   "cell_type": "markdown",
   "metadata": {
    "id": "rP6Ecni1Fl-9"
   },
   "source": [
    "## Question4"
   ]
  },
  {
   "cell_type": "code",
   "execution_count": null,
   "metadata": {
    "colab": {
     "base_uri": "https://localhost:8080/"
    },
    "executionInfo": {
     "elapsed": 24693,
     "status": "ok",
     "timestamp": 1616137675843,
     "user": {
      "displayName": "Tautology Madebyai",
      "photoUrl": "https://lh3.googleusercontent.com/a-/AOh14GgIuxJTOXeU2g-OcdBfWS1NSCgofk20ST_TdkDm=s64",
      "userId": "06969950300190082095"
     },
     "user_tz": -420
    },
    "id": "CVRm3JbjFl-9",
    "outputId": "1440fd52-7c9a-4bff-c884-876ee1fcb3ba"
   },
   "outputs": [
    {
     "name": "stdout",
     "output_type": "stream",
     "text": [
      "Please insert integer: 3\n",
      "3\n",
      "<class 'int'>\n"
     ]
    }
   ],
   "source": [
    "numeric4 = int(input('Please insert integer: '))\n",
    "print(numeric4)\n",
    "print(type(numeric4))"
   ]
  },
  {
   "cell_type": "markdown",
   "metadata": {
    "id": "mDVIo6-gFl--"
   },
   "source": [
    "## Question5"
   ]
  },
  {
   "cell_type": "code",
   "execution_count": null,
   "metadata": {
    "colab": {
     "base_uri": "https://localhost:8080/"
    },
    "executionInfo": {
     "elapsed": 24666,
     "status": "ok",
     "timestamp": 1616137675844,
     "user": {
      "displayName": "Tautology Madebyai",
      "photoUrl": "https://lh3.googleusercontent.com/a-/AOh14GgIuxJTOXeU2g-OcdBfWS1NSCgofk20ST_TdkDm=s64",
      "userId": "06969950300190082095"
     },
     "user_tz": -420
    },
    "id": "fcMojLy-Fl--",
    "outputId": "43e58a66-7157-4b66-84b0-380e03f442d1"
   },
   "outputs": [
    {
     "name": "stdout",
     "output_type": "stream",
     "text": [
      "5.0\n",
      "<class 'float'>\n"
     ]
    }
   ],
   "source": [
    "numeric1 = 5.0\n",
    "print(numeric1)\n",
    "print(type(numeric1))"
   ]
  },
  {
   "cell_type": "markdown",
   "metadata": {
    "id": "K-rFnnydFl-_"
   },
   "source": [
    "## Question6"
   ]
  },
  {
   "cell_type": "code",
   "execution_count": null,
   "metadata": {
    "colab": {
     "base_uri": "https://localhost:8080/"
    },
    "executionInfo": {
     "elapsed": 24665,
     "status": "ok",
     "timestamp": 1616137675844,
     "user": {
      "displayName": "Tautology Madebyai",
      "photoUrl": "https://lh3.googleusercontent.com/a-/AOh14GgIuxJTOXeU2g-OcdBfWS1NSCgofk20ST_TdkDm=s64",
      "userId": "06969950300190082095"
     },
     "user_tz": -420
    },
    "id": "N02n61nOFl_B",
    "outputId": "0916a800-af0a-4551-90bd-f9aaa316afb7"
   },
   "outputs": [
    {
     "name": "stdout",
     "output_type": "stream",
     "text": [
      "-3.1\n",
      "<class 'float'>\n"
     ]
    }
   ],
   "source": [
    "numeric2 = -3.1\n",
    "print(numeric2)\n",
    "print(type(numeric2))"
   ]
  },
  {
   "cell_type": "markdown",
   "metadata": {
    "id": "XdW4QxHcFl_B"
   },
   "source": [
    "## Question7"
   ]
  },
  {
   "cell_type": "code",
   "execution_count": null,
   "metadata": {
    "colab": {
     "base_uri": "https://localhost:8080/"
    },
    "executionInfo": {
     "elapsed": 24665,
     "status": "ok",
     "timestamp": 1616137675844,
     "user": {
      "displayName": "Tautology Madebyai",
      "photoUrl": "https://lh3.googleusercontent.com/a-/AOh14GgIuxJTOXeU2g-OcdBfWS1NSCgofk20ST_TdkDm=s64",
      "userId": "06969950300190082095"
     },
     "user_tz": -420
    },
    "id": "4ouBkRGOFl_C",
    "outputId": "9176a646-667d-4bd6-d84b-d83494e36e7b"
   },
   "outputs": [
    {
     "name": "stdout",
     "output_type": "stream",
     "text": [
      "0.0\n",
      "<class 'float'>\n"
     ]
    }
   ],
   "source": [
    "numeric3 = 0.0\n",
    "print(numeric3)\n",
    "print(type(numeric3))"
   ]
  },
  {
   "cell_type": "markdown",
   "metadata": {
    "id": "HP3fu34yFl_C"
   },
   "source": [
    "## Question8"
   ]
  },
  {
   "cell_type": "code",
   "execution_count": null,
   "metadata": {
    "colab": {
     "base_uri": "https://localhost:8080/"
    },
    "executionInfo": {
     "elapsed": 40966,
     "status": "ok",
     "timestamp": 1616137692146,
     "user": {
      "displayName": "Tautology Madebyai",
      "photoUrl": "https://lh3.googleusercontent.com/a-/AOh14GgIuxJTOXeU2g-OcdBfWS1NSCgofk20ST_TdkDm=s64",
      "userId": "06969950300190082095"
     },
     "user_tz": -420
    },
    "id": "08GYRDb_Fl_D",
    "outputId": "e910b07f-6831-40e2-bb8f-84eb3d219144"
   },
   "outputs": [
    {
     "name": "stdout",
     "output_type": "stream",
     "text": [
      "Please insert floating number: 3.99\n",
      "3.99\n",
      "<class 'float'>\n"
     ]
    }
   ],
   "source": [
    "numeric4 = float(input('Please insert floating number: '))\n",
    "print(numeric4)\n",
    "print(type(numeric4))"
   ]
  },
  {
   "cell_type": "markdown",
   "metadata": {
    "id": "LjAzHYLEFl_D"
   },
   "source": [
    "## Question9"
   ]
  },
  {
   "cell_type": "code",
   "execution_count": null,
   "metadata": {
    "colab": {
     "base_uri": "https://localhost:8080/"
    },
    "executionInfo": {
     "elapsed": 52511,
     "status": "ok",
     "timestamp": 1616137703720,
     "user": {
      "displayName": "Tautology Madebyai",
      "photoUrl": "https://lh3.googleusercontent.com/a-/AOh14GgIuxJTOXeU2g-OcdBfWS1NSCgofk20ST_TdkDm=s64",
      "userId": "06969950300190082095"
     },
     "user_tz": -420
    },
    "id": "F6oSWSIeFl_E",
    "outputId": "71bba19a-ef43-47db-8ca4-21bb25b52e32"
   },
   "outputs": [
    {
     "name": "stdout",
     "output_type": "stream",
     "text": [
      "Please insert int1: 17\n",
      "Please insert int2: 4\n",
      "int1: 17 <class 'int'>\n",
      "int2: 4 <class 'int'>\n",
      "ผลบวก: 21 <class 'int'>\n",
      "ผลลบ: 13 <class 'int'>\n",
      "ผลคูณ: 68 <class 'int'>\n",
      "ผลหาร: 4.25 <class 'float'>\n"
     ]
    }
   ],
   "source": [
    "int1 = int(input('Please insert int1: '))\n",
    "int2 = int(input('Please insert int2: '))\n",
    "print('int1:', int1, type(int1))\n",
    "\n",
    "print('int2:', int2, type(int2))\n",
    "\n",
    "a = int1 + int2\n",
    "print('ผลบวก:', a, type(a))\n",
    "\n",
    "b = int1 - int2\n",
    "print('ผลลบ:', b, type(b))\n",
    "\n",
    "c = int1*int2\n",
    "print('ผลคูณ:', c, type(c))\n",
    "\n",
    "d = int1/int2\n",
    "print('ผลหาร:', d, type(d))"
   ]
  },
  {
   "cell_type": "markdown",
   "metadata": {
    "id": "qKY8lhZfFl_E"
   },
   "source": [
    "## Question10"
   ]
  },
  {
   "cell_type": "code",
   "execution_count": null,
   "metadata": {
    "colab": {
     "base_uri": "https://localhost:8080/"
    },
    "executionInfo": {
     "elapsed": 74903,
     "status": "ok",
     "timestamp": 1616137726140,
     "user": {
      "displayName": "Tautology Madebyai",
      "photoUrl": "https://lh3.googleusercontent.com/a-/AOh14GgIuxJTOXeU2g-OcdBfWS1NSCgofk20ST_TdkDm=s64",
      "userId": "06969950300190082095"
     },
     "user_tz": -420
    },
    "id": "fKETnE8qFl_E",
    "outputId": "b2439a59-59d2-4e7c-c7ad-ca726b058697"
   },
   "outputs": [
    {
     "name": "stdout",
     "output_type": "stream",
     "text": [
      "Please insert float1: 24.5\n",
      "Please insert float2: 2.4\n",
      "float1: 24.5 <class 'float'>\n",
      "float2: 2.4 <class 'float'>\n",
      "ผลบวก 26.9 <class 'float'>\n",
      "ผลลบ 22.1 <class 'float'>\n",
      "ผลคูณ 58.8 <class 'float'>\n",
      "ผลหาร 10.208333333333334 <class 'float'>\n"
     ]
    }
   ],
   "source": [
    "float1 = float(input('Please insert float1: '))\n",
    "float2 = float(input('Please insert float2: '))\n",
    "print('float1:', float1, type(float1))\n",
    "\n",
    "print('float2:', float2, type(float2))\n",
    "\n",
    "a = float1 + float2\n",
    "print('ผลบวก', a, type(a))\n",
    "\n",
    "b = float1 - float2\n",
    "print('ผลลบ', b, type(b))\n",
    "\n",
    "c = float1*float2\n",
    "print('ผลคูณ', c, type(c))\n",
    "\n",
    "d = float1/float2\n",
    "print('ผลหาร', d, type(d))"
   ]
  },
  {
   "cell_type": "markdown",
   "metadata": {
    "id": "8uZmYZpeFl_F"
   },
   "source": [
    "## Question11"
   ]
  },
  {
   "cell_type": "code",
   "execution_count": null,
   "metadata": {
    "colab": {
     "base_uri": "https://localhost:8080/"
    },
    "executionInfo": {
     "elapsed": 102939,
     "status": "ok",
     "timestamp": 1616137754204,
     "user": {
      "displayName": "Tautology Madebyai",
      "photoUrl": "https://lh3.googleusercontent.com/a-/AOh14GgIuxJTOXeU2g-OcdBfWS1NSCgofk20ST_TdkDm=s64",
      "userId": "06969950300190082095"
     },
     "user_tz": -420
    },
    "id": "MhqSwDuZFl_G",
    "outputId": "4b3f58a6-845e-4d50-fbc8-3a31bc0da5c7"
   },
   "outputs": [
    {
     "name": "stdout",
     "output_type": "stream",
     "text": [
      "Please insert int1: 5\n",
      "Please insert float1: 7.1\n",
      "int1: 5 <class 'int'>\n",
      "float1: 7.1 <class 'float'>\n",
      "ผลบวก: 12.1 <class 'float'>\n",
      "ผลลบ: -2.0999999999999996 <class 'float'>\n",
      "ผลคูณ: 35.5 <class 'float'>\n",
      "ผลหาร: 0.7042253521126761 <class 'float'>\n"
     ]
    }
   ],
   "source": [
    "int1 = int(input('Please insert int1: '))\n",
    "float1 = float(input('Please insert float1: '))\n",
    "print('int1:', int1, type(int1))\n",
    "\n",
    "print('float1:', float1, type(float1))\n",
    "\n",
    "a = int1 + float1\n",
    "print('ผลบวก:', a, type(a))\n",
    "\n",
    "b = int1 - float1\n",
    "print('ผลลบ:', b, type(b))\n",
    "\n",
    "c = int1*float1\n",
    "print('ผลคูณ:', c, type(c))\n",
    "\n",
    "d = int1/float1\n",
    "print('ผลหาร:', d, type(d))"
   ]
  },
  {
   "cell_type": "markdown",
   "metadata": {
    "id": "MQT7PELMFl_J"
   },
   "source": [
    "## Question12"
   ]
  },
  {
   "cell_type": "code",
   "execution_count": null,
   "metadata": {
    "colab": {
     "base_uri": "https://localhost:8080/"
    },
    "executionInfo": {
     "elapsed": 102910,
     "status": "ok",
     "timestamp": 1616137754204,
     "user": {
      "displayName": "Tautology Madebyai",
      "photoUrl": "https://lh3.googleusercontent.com/a-/AOh14GgIuxJTOXeU2g-OcdBfWS1NSCgofk20ST_TdkDm=s64",
      "userId": "06969950300190082095"
     },
     "user_tz": -420
    },
    "id": "v8JWTJ1lFl_L",
    "outputId": "598ac826-ab48-4b76-b608-6fcae57d33cc"
   },
   "outputs": [
    {
     "name": "stdout",
     "output_type": "stream",
     "text": [
      "True\n",
      "<class 'bool'>\n"
     ]
    }
   ],
   "source": [
    "logic1 = True\n",
    "print(logic1)\n",
    "print(type(logic1))"
   ]
  },
  {
   "cell_type": "markdown",
   "metadata": {
    "id": "-CnB5v3DFl_L"
   },
   "source": [
    "## Question13"
   ]
  },
  {
   "cell_type": "code",
   "execution_count": null,
   "metadata": {
    "colab": {
     "base_uri": "https://localhost:8080/"
    },
    "executionInfo": {
     "elapsed": 102882,
     "status": "ok",
     "timestamp": 1616137754204,
     "user": {
      "displayName": "Tautology Madebyai",
      "photoUrl": "https://lh3.googleusercontent.com/a-/AOh14GgIuxJTOXeU2g-OcdBfWS1NSCgofk20ST_TdkDm=s64",
      "userId": "06969950300190082095"
     },
     "user_tz": -420
    },
    "id": "Qdo-qdfYFl_L",
    "outputId": "9c632f06-cc27-42be-e947-ad004bde5768"
   },
   "outputs": [
    {
     "name": "stdout",
     "output_type": "stream",
     "text": [
      "False\n",
      "<class 'bool'>\n"
     ]
    }
   ],
   "source": [
    "logic2 = False\n",
    "print(logic2)\n",
    "print(type(logic2))"
   ]
  },
  {
   "cell_type": "markdown",
   "metadata": {
    "id": "bQFpHDs4Fl_M"
   },
   "source": [
    "## Question14"
   ]
  },
  {
   "cell_type": "code",
   "execution_count": null,
   "metadata": {
    "colab": {
     "base_uri": "https://localhost:8080/"
    },
    "executionInfo": {
     "elapsed": 102853,
     "status": "ok",
     "timestamp": 1616137754204,
     "user": {
      "displayName": "Tautology Madebyai",
      "photoUrl": "https://lh3.googleusercontent.com/a-/AOh14GgIuxJTOXeU2g-OcdBfWS1NSCgofk20ST_TdkDm=s64",
      "userId": "06969950300190082095"
     },
     "user_tz": -420
    },
    "id": "mziWs3zoFl_M",
    "outputId": "45edf480-cc6c-4483-ce5a-749c861ac9db"
   },
   "outputs": [
    {
     "name": "stdout",
     "output_type": "stream",
     "text": [
      "False\n"
     ]
    }
   ],
   "source": [
    "logic1 = True\n",
    "logic2 = False\n",
    "print((logic1 and logic2))"
   ]
  },
  {
   "cell_type": "markdown",
   "metadata": {
    "id": "JJMr_7RvFl_M"
   },
   "source": [
    "## Question15"
   ]
  },
  {
   "cell_type": "code",
   "execution_count": null,
   "metadata": {
    "colab": {
     "base_uri": "https://localhost:8080/"
    },
    "executionInfo": {
     "elapsed": 102825,
     "status": "ok",
     "timestamp": 1616137754204,
     "user": {
      "displayName": "Tautology Madebyai",
      "photoUrl": "https://lh3.googleusercontent.com/a-/AOh14GgIuxJTOXeU2g-OcdBfWS1NSCgofk20ST_TdkDm=s64",
      "userId": "06969950300190082095"
     },
     "user_tz": -420
    },
    "id": "6s3nUES1Fl_N",
    "outputId": "5c5d443d-a379-4764-d689-7289f2a928c5"
   },
   "outputs": [
    {
     "name": "stdout",
     "output_type": "stream",
     "text": [
      "True\n"
     ]
    }
   ],
   "source": [
    "logic1 = True\n",
    "logic2 = False\n",
    "print((logic1 or logic2))"
   ]
  },
  {
   "cell_type": "markdown",
   "metadata": {
    "id": "nwE8E4DPFl_O"
   },
   "source": [
    "## Question16"
   ]
  },
  {
   "cell_type": "code",
   "execution_count": null,
   "metadata": {
    "colab": {
     "base_uri": "https://localhost:8080/"
    },
    "executionInfo": {
     "elapsed": 102797,
     "status": "ok",
     "timestamp": 1616137754204,
     "user": {
      "displayName": "Tautology Madebyai",
      "photoUrl": "https://lh3.googleusercontent.com/a-/AOh14GgIuxJTOXeU2g-OcdBfWS1NSCgofk20ST_TdkDm=s64",
      "userId": "06969950300190082095"
     },
     "user_tz": -420
    },
    "id": "MjVXAoOQFl_O",
    "outputId": "29b4bf58-256d-4b83-a8e2-fc74166d13c2"
   },
   "outputs": [
    {
     "name": "stdout",
     "output_type": "stream",
     "text": [
      "(1+2j)\n",
      "<class 'complex'>\n"
     ]
    }
   ],
   "source": [
    "complex1 = 1 + 2j\n",
    "print(complex1)\n",
    "print(type(complex1))"
   ]
  },
  {
   "cell_type": "markdown",
   "metadata": {
    "id": "cddo5kbhFl_O"
   },
   "source": [
    "## Question17"
   ]
  },
  {
   "cell_type": "code",
   "execution_count": null,
   "metadata": {
    "colab": {
     "base_uri": "https://localhost:8080/"
    },
    "executionInfo": {
     "elapsed": 102770,
     "status": "ok",
     "timestamp": 1616137754205,
     "user": {
      "displayName": "Tautology Madebyai",
      "photoUrl": "https://lh3.googleusercontent.com/a-/AOh14GgIuxJTOXeU2g-OcdBfWS1NSCgofk20ST_TdkDm=s64",
      "userId": "06969950300190082095"
     },
     "user_tz": -420
    },
    "id": "Sg03O2JpFl_O",
    "outputId": "20952a36-4cd3-448b-c447-d3016da43dd9"
   },
   "outputs": [
    {
     "name": "stdout",
     "output_type": "stream",
     "text": [
      "1.0\n"
     ]
    }
   ],
   "source": [
    "complex1 = 1 + 2j\n",
    "print(complex1.real)"
   ]
  },
  {
   "cell_type": "markdown",
   "metadata": {
    "id": "D-Hux8OCFl_P"
   },
   "source": [
    "## Question18"
   ]
  },
  {
   "cell_type": "code",
   "execution_count": null,
   "metadata": {
    "colab": {
     "base_uri": "https://localhost:8080/"
    },
    "executionInfo": {
     "elapsed": 102741,
     "status": "ok",
     "timestamp": 1616137754205,
     "user": {
      "displayName": "Tautology Madebyai",
      "photoUrl": "https://lh3.googleusercontent.com/a-/AOh14GgIuxJTOXeU2g-OcdBfWS1NSCgofk20ST_TdkDm=s64",
      "userId": "06969950300190082095"
     },
     "user_tz": -420
    },
    "id": "wsX7MMRpFl_P",
    "outputId": "2a542aec-8913-4129-ce3b-e105008465b8"
   },
   "outputs": [
    {
     "name": "stdout",
     "output_type": "stream",
     "text": [
      "2.0\n"
     ]
    }
   ],
   "source": [
    "complex1 = 1 + 2j\n",
    "print(complex1.imag)"
   ]
  },
  {
   "cell_type": "markdown",
   "metadata": {
    "id": "sXE5YE7HFl_P"
   },
   "source": [
    "# -------------------- String --------------------"
   ]
  },
  {
   "cell_type": "markdown",
   "metadata": {
    "id": "UX-qVKKDFl_P"
   },
   "source": [
    "## Question19"
   ]
  },
  {
   "cell_type": "code",
   "execution_count": null,
   "metadata": {
    "colab": {
     "base_uri": "https://localhost:8080/"
    },
    "executionInfo": {
     "elapsed": 102713,
     "status": "ok",
     "timestamp": 1616137754205,
     "user": {
      "displayName": "Tautology Madebyai",
      "photoUrl": "https://lh3.googleusercontent.com/a-/AOh14GgIuxJTOXeU2g-OcdBfWS1NSCgofk20ST_TdkDm=s64",
      "userId": "06969950300190082095"
     },
     "user_tz": -420
    },
    "id": "5Y_3w3lIFl_P",
    "outputId": "a37a6e17-c60c-4619-fba4-d3815a8169a3"
   },
   "outputs": [
    {
     "name": "stdout",
     "output_type": "stream",
     "text": [
      "Python\n",
      "<class 'str'>\n"
     ]
    }
   ],
   "source": [
    "string1 = 'Python'\n",
    "print(string1)\n",
    "print(type(string1))"
   ]
  },
  {
   "cell_type": "markdown",
   "metadata": {
    "id": "DoUpkeLFFl_P"
   },
   "source": [
    "## Question20"
   ]
  },
  {
   "cell_type": "code",
   "execution_count": null,
   "metadata": {
    "colab": {
     "base_uri": "https://localhost:8080/"
    },
    "executionInfo": {
     "elapsed": 102685,
     "status": "ok",
     "timestamp": 1616137754205,
     "user": {
      "displayName": "Tautology Madebyai",
      "photoUrl": "https://lh3.googleusercontent.com/a-/AOh14GgIuxJTOXeU2g-OcdBfWS1NSCgofk20ST_TdkDm=s64",
      "userId": "06969950300190082095"
     },
     "user_tz": -420
    },
    "id": "pDdkhoLnFl_P",
    "outputId": "6c9acb0e-1598-4560-c43e-2adb51b43791"
   },
   "outputs": [
    {
     "name": "stdout",
     "output_type": "stream",
     "text": [
      "P\n"
     ]
    }
   ],
   "source": [
    "string1 = 'Python'\n",
    "print(string1[0])"
   ]
  },
  {
   "cell_type": "markdown",
   "metadata": {
    "id": "uaaMjvegFl_Q"
   },
   "source": [
    "## Question21"
   ]
  },
  {
   "cell_type": "code",
   "execution_count": null,
   "metadata": {
    "colab": {
     "base_uri": "https://localhost:8080/"
    },
    "executionInfo": {
     "elapsed": 102657,
     "status": "ok",
     "timestamp": 1616137754205,
     "user": {
      "displayName": "Tautology Madebyai",
      "photoUrl": "https://lh3.googleusercontent.com/a-/AOh14GgIuxJTOXeU2g-OcdBfWS1NSCgofk20ST_TdkDm=s64",
      "userId": "06969950300190082095"
     },
     "user_tz": -420
    },
    "id": "2IETk0hHFl_Q",
    "outputId": "ecfed3ed-1293-41eb-c7ab-44c57f714411"
   },
   "outputs": [
    {
     "name": "stdout",
     "output_type": "stream",
     "text": [
      "y\n"
     ]
    }
   ],
   "source": [
    "string1 = 'Python'\n",
    "print(string1[1])"
   ]
  },
  {
   "cell_type": "markdown",
   "metadata": {
    "id": "U_KUCU4hFl_Q"
   },
   "source": [
    "## Question22"
   ]
  },
  {
   "cell_type": "code",
   "execution_count": null,
   "metadata": {
    "colab": {
     "base_uri": "https://localhost:8080/"
    },
    "executionInfo": {
     "elapsed": 102629,
     "status": "ok",
     "timestamp": 1616137754205,
     "user": {
      "displayName": "Tautology Madebyai",
      "photoUrl": "https://lh3.googleusercontent.com/a-/AOh14GgIuxJTOXeU2g-OcdBfWS1NSCgofk20ST_TdkDm=s64",
      "userId": "06969950300190082095"
     },
     "user_tz": -420
    },
    "id": "9C5nSoWXFl_Q",
    "outputId": "e79e3f21-590e-4b39-816f-dd14b6152377"
   },
   "outputs": [
    {
     "name": "stdout",
     "output_type": "stream",
     "text": [
      "n\n"
     ]
    }
   ],
   "source": [
    "string1 = 'Python'\n",
    "print(string1[-1])"
   ]
  },
  {
   "cell_type": "markdown",
   "metadata": {
    "id": "ZFnGa1rGFl_Q"
   },
   "source": [
    "## Question23"
   ]
  },
  {
   "cell_type": "code",
   "execution_count": null,
   "metadata": {
    "colab": {
     "base_uri": "https://localhost:8080/"
    },
    "executionInfo": {
     "elapsed": 102601,
     "status": "ok",
     "timestamp": 1616137754205,
     "user": {
      "displayName": "Tautology Madebyai",
      "photoUrl": "https://lh3.googleusercontent.com/a-/AOh14GgIuxJTOXeU2g-OcdBfWS1NSCgofk20ST_TdkDm=s64",
      "userId": "06969950300190082095"
     },
     "user_tz": -420
    },
    "id": "llke1H9MFl_Q",
    "outputId": "a7719e90-65ef-42ab-8b29-4310f67924d3",
    "scrolled": true
   },
   "outputs": [
    {
     "name": "stdout",
     "output_type": "stream",
     "text": [
      "o\n"
     ]
    }
   ],
   "source": [
    "string1 = 'Python'\n",
    "print(string1[-2])"
   ]
  },
  {
   "cell_type": "markdown",
   "metadata": {
    "id": "_WyHT3Q2Fl_R"
   },
   "source": [
    "## Question24"
   ]
  },
  {
   "cell_type": "markdown",
   "metadata": {
    "id": "gqiP7hB5Fl_R"
   },
   "source": [
    "### 24.1 solution"
   ]
  },
  {
   "cell_type": "code",
   "execution_count": null,
   "metadata": {
    "colab": {
     "base_uri": "https://localhost:8080/"
    },
    "executionInfo": {
     "elapsed": 102572,
     "status": "ok",
     "timestamp": 1616137754205,
     "user": {
      "displayName": "Tautology Madebyai",
      "photoUrl": "https://lh3.googleusercontent.com/a-/AOh14GgIuxJTOXeU2g-OcdBfWS1NSCgofk20ST_TdkDm=s64",
      "userId": "06969950300190082095"
     },
     "user_tz": -420
    },
    "id": "XU2M-ANsFl_R",
    "outputId": "a7d54e6a-5601-4f2d-8cab-87c368fe2048"
   },
   "outputs": [
    {
     "name": "stdout",
     "output_type": "stream",
     "text": [
      "t\n"
     ]
    }
   ],
   "source": [
    "string1 = 'Python'\n",
    "print(string1[2])"
   ]
  },
  {
   "cell_type": "markdown",
   "metadata": {
    "id": "iCBqjF1ZFl_R"
   },
   "source": [
    "### 24.2 solution"
   ]
  },
  {
   "cell_type": "code",
   "execution_count": null,
   "metadata": {
    "colab": {
     "base_uri": "https://localhost:8080/"
    },
    "executionInfo": {
     "elapsed": 102545,
     "status": "ok",
     "timestamp": 1616137754206,
     "user": {
      "displayName": "Tautology Madebyai",
      "photoUrl": "https://lh3.googleusercontent.com/a-/AOh14GgIuxJTOXeU2g-OcdBfWS1NSCgofk20ST_TdkDm=s64",
      "userId": "06969950300190082095"
     },
     "user_tz": -420
    },
    "id": "SyBA40rgFl_R",
    "outputId": "889e4329-6e1f-408d-8202-720713077b41",
    "scrolled": true
   },
   "outputs": [
    {
     "name": "stdout",
     "output_type": "stream",
     "text": [
      "t\n"
     ]
    }
   ],
   "source": [
    "string1 = 'Python'\n",
    "print(string1[-4])"
   ]
  },
  {
   "cell_type": "markdown",
   "metadata": {
    "id": "ZMayvi4pFl_R"
   },
   "source": [
    "## Question25"
   ]
  },
  {
   "cell_type": "markdown",
   "metadata": {
    "id": "4GvqpA2tFl_R"
   },
   "source": [
    "### 25.1 solution"
   ]
  },
  {
   "cell_type": "code",
   "execution_count": null,
   "metadata": {
    "colab": {
     "base_uri": "https://localhost:8080/"
    },
    "executionInfo": {
     "elapsed": 102516,
     "status": "ok",
     "timestamp": 1616137754206,
     "user": {
      "displayName": "Tautology Madebyai",
      "photoUrl": "https://lh3.googleusercontent.com/a-/AOh14GgIuxJTOXeU2g-OcdBfWS1NSCgofk20ST_TdkDm=s64",
      "userId": "06969950300190082095"
     },
     "user_tz": -420
    },
    "id": "CcXXdu9UFl_R",
    "outputId": "96e34459-1810-403e-e201-012cfd0ef876"
   },
   "outputs": [
    {
     "name": "stdout",
     "output_type": "stream",
     "text": [
      "h\n"
     ]
    }
   ],
   "source": [
    "string1 = 'Python'\n",
    "print(string1[3])"
   ]
  },
  {
   "cell_type": "markdown",
   "metadata": {
    "id": "h45OC4kkFl_R"
   },
   "source": [
    "### 25.2 solution"
   ]
  },
  {
   "cell_type": "code",
   "execution_count": null,
   "metadata": {
    "colab": {
     "base_uri": "https://localhost:8080/"
    },
    "executionInfo": {
     "elapsed": 102488,
     "status": "ok",
     "timestamp": 1616137754206,
     "user": {
      "displayName": "Tautology Madebyai",
      "photoUrl": "https://lh3.googleusercontent.com/a-/AOh14GgIuxJTOXeU2g-OcdBfWS1NSCgofk20ST_TdkDm=s64",
      "userId": "06969950300190082095"
     },
     "user_tz": -420
    },
    "id": "Ov8RePgIFl_R",
    "outputId": "0b7fe062-0b4c-49d5-9d11-4e67595a78e9",
    "scrolled": true
   },
   "outputs": [
    {
     "name": "stdout",
     "output_type": "stream",
     "text": [
      "h\n"
     ]
    }
   ],
   "source": [
    "string1 = 'Python'\n",
    "print(string1[-3])"
   ]
  },
  {
   "cell_type": "markdown",
   "metadata": {
    "id": "bu_wHGeVFl_S"
   },
   "source": [
    "## Question26"
   ]
  },
  {
   "cell_type": "code",
   "execution_count": null,
   "metadata": {
    "colab": {
     "base_uri": "https://localhost:8080/"
    },
    "executionInfo": {
     "elapsed": 102460,
     "status": "ok",
     "timestamp": 1616137754206,
     "user": {
      "displayName": "Tautology Madebyai",
      "photoUrl": "https://lh3.googleusercontent.com/a-/AOh14GgIuxJTOXeU2g-OcdBfWS1NSCgofk20ST_TdkDm=s64",
      "userId": "06969950300190082095"
     },
     "user_tz": -420
    },
    "id": "DvqhE7yXFl_S",
    "outputId": "c195e5ca-15b6-4056-a03d-4c4f94826800"
   },
   "outputs": [
    {
     "name": "stdout",
     "output_type": "stream",
     "text": [
      "yth\n"
     ]
    }
   ],
   "source": [
    "string1 = 'Python'\n",
    "print(string1[1:4])"
   ]
  },
  {
   "cell_type": "markdown",
   "metadata": {
    "id": "A98hcpCqFl_S"
   },
   "source": [
    "## Question27"
   ]
  },
  {
   "cell_type": "code",
   "execution_count": null,
   "metadata": {
    "colab": {
     "base_uri": "https://localhost:8080/"
    },
    "executionInfo": {
     "elapsed": 103108,
     "status": "ok",
     "timestamp": 1616137754882,
     "user": {
      "displayName": "Tautology Madebyai",
      "photoUrl": "https://lh3.googleusercontent.com/a-/AOh14GgIuxJTOXeU2g-OcdBfWS1NSCgofk20ST_TdkDm=s64",
      "userId": "06969950300190082095"
     },
     "user_tz": -420
    },
    "id": "kZNcmdbzFl_S",
    "outputId": "6cc60db6-c21d-44d5-bafd-c173a014d7ed"
   },
   "outputs": [
    {
     "name": "stdout",
     "output_type": "stream",
     "text": [
      "tho\n"
     ]
    }
   ],
   "source": [
    "string1 = 'Python'\n",
    "print(string1[2:-1])"
   ]
  },
  {
   "cell_type": "markdown",
   "metadata": {
    "id": "vSOQjP7jFl_S"
   },
   "source": [
    "## Question28"
   ]
  },
  {
   "cell_type": "code",
   "execution_count": null,
   "metadata": {
    "colab": {
     "base_uri": "https://localhost:8080/"
    },
    "executionInfo": {
     "elapsed": 103080,
     "status": "ok",
     "timestamp": 1616137754882,
     "user": {
      "displayName": "Tautology Madebyai",
      "photoUrl": "https://lh3.googleusercontent.com/a-/AOh14GgIuxJTOXeU2g-OcdBfWS1NSCgofk20ST_TdkDm=s64",
      "userId": "06969950300190082095"
     },
     "user_tz": -420
    },
    "id": "-Ycp6HxZFl_S",
    "outputId": "71e9397e-c834-4594-adff-45fc139a93bb"
   },
   "outputs": [
    {
     "name": "stdout",
     "output_type": "stream",
     "text": [
      "thon\n"
     ]
    }
   ],
   "source": [
    "string1 = 'Python'\n",
    "print(string1[2:])"
   ]
  },
  {
   "cell_type": "markdown",
   "metadata": {
    "id": "lLWfM4VFFl_S"
   },
   "source": [
    "## Question29"
   ]
  },
  {
   "cell_type": "code",
   "execution_count": null,
   "metadata": {
    "colab": {
     "base_uri": "https://localhost:8080/"
    },
    "executionInfo": {
     "elapsed": 103051,
     "status": "ok",
     "timestamp": 1616137754882,
     "user": {
      "displayName": "Tautology Madebyai",
      "photoUrl": "https://lh3.googleusercontent.com/a-/AOh14GgIuxJTOXeU2g-OcdBfWS1NSCgofk20ST_TdkDm=s64",
      "userId": "06969950300190082095"
     },
     "user_tz": -420
    },
    "id": "26no-m8XFl_S",
    "outputId": "7b390edf-68f9-4dc5-d840-64a36f2600bb"
   },
   "outputs": [
    {
     "name": "stdout",
     "output_type": "stream",
     "text": [
      "tho\n"
     ]
    }
   ],
   "source": [
    "string1 = 'Python'\n",
    "print(string1[-4:5])"
   ]
  },
  {
   "cell_type": "markdown",
   "metadata": {
    "id": "eyTgJz2SFl_T"
   },
   "source": [
    "## Question30"
   ]
  },
  {
   "cell_type": "markdown",
   "metadata": {
    "id": "tfiS__lcFl_T"
   },
   "source": [
    "### 30.1 solution"
   ]
  },
  {
   "cell_type": "code",
   "execution_count": null,
   "metadata": {
    "colab": {
     "base_uri": "https://localhost:8080/"
    },
    "executionInfo": {
     "elapsed": 103024,
     "status": "ok",
     "timestamp": 1616137754883,
     "user": {
      "displayName": "Tautology Madebyai",
      "photoUrl": "https://lh3.googleusercontent.com/a-/AOh14GgIuxJTOXeU2g-OcdBfWS1NSCgofk20ST_TdkDm=s64",
      "userId": "06969950300190082095"
     },
     "user_tz": -420
    },
    "id": "f8lrdBHpFl_T",
    "outputId": "fd72edea-90df-4f29-839d-ff2e7a12f17b"
   },
   "outputs": [
    {
     "name": "stdout",
     "output_type": "stream",
     "text": [
      "Pytho\n"
     ]
    }
   ],
   "source": [
    "string1 = 'Python'\n",
    "print(string1[-6:5])"
   ]
  },
  {
   "cell_type": "markdown",
   "metadata": {
    "id": "8EsB5aFEFl_T"
   },
   "source": [
    "### 30.2 solution"
   ]
  },
  {
   "cell_type": "code",
   "execution_count": null,
   "metadata": {
    "colab": {
     "base_uri": "https://localhost:8080/"
    },
    "executionInfo": {
     "elapsed": 102996,
     "status": "ok",
     "timestamp": 1616137754883,
     "user": {
      "displayName": "Tautology Madebyai",
      "photoUrl": "https://lh3.googleusercontent.com/a-/AOh14GgIuxJTOXeU2g-OcdBfWS1NSCgofk20ST_TdkDm=s64",
      "userId": "06969950300190082095"
     },
     "user_tz": -420
    },
    "id": "zLAKtu0wFl_T",
    "outputId": "0a8f6f8d-a8a6-465a-9ae4-237e4282165d"
   },
   "outputs": [
    {
     "name": "stdout",
     "output_type": "stream",
     "text": [
      "Pytho\n"
     ]
    }
   ],
   "source": [
    "string1 = 'Python'\n",
    "print(string1[:5])"
   ]
  },
  {
   "cell_type": "markdown",
   "metadata": {
    "id": "afTll4AXFl_T"
   },
   "source": [
    "## Question31"
   ]
  },
  {
   "cell_type": "code",
   "execution_count": null,
   "metadata": {
    "colab": {
     "base_uri": "https://localhost:8080/"
    },
    "executionInfo": {
     "elapsed": 102966,
     "status": "ok",
     "timestamp": 1616137754883,
     "user": {
      "displayName": "Tautology Madebyai",
      "photoUrl": "https://lh3.googleusercontent.com/a-/AOh14GgIuxJTOXeU2g-OcdBfWS1NSCgofk20ST_TdkDm=s64",
      "userId": "06969950300190082095"
     },
     "user_tz": -420
    },
    "id": "Qbk3_jkeFl_T",
    "outputId": "1b5d8a50-7a24-4049-ed25-4f8db7aa8569"
   },
   "outputs": [
    {
     "name": "stdout",
     "output_type": "stream",
     "text": [
      "tho\n"
     ]
    }
   ],
   "source": [
    "string1 = 'Python'\n",
    "print(string1[-4:-1])"
   ]
  },
  {
   "cell_type": "markdown",
   "metadata": {
    "id": "KJV9N3WoFl_U"
   },
   "source": [
    "## Question32"
   ]
  },
  {
   "cell_type": "code",
   "execution_count": null,
   "metadata": {
    "colab": {
     "base_uri": "https://localhost:8080/"
    },
    "executionInfo": {
     "elapsed": 406944,
     "status": "ok",
     "timestamp": 1616138058889,
     "user": {
      "displayName": "Tautology Madebyai",
      "photoUrl": "https://lh3.googleusercontent.com/a-/AOh14GgIuxJTOXeU2g-OcdBfWS1NSCgofk20ST_TdkDm=s64",
      "userId": "06969950300190082095"
     },
     "user_tz": -420
    },
    "id": "YHjUgUmYFl_U",
    "outputId": "a8d3ab64-5cfc-447d-9ddd-23d0fcbe22f7"
   },
   "outputs": [
    {
     "name": "stdout",
     "output_type": "stream",
     "text": [
      "Please insert string1: hello\n",
      "5\n"
     ]
    }
   ],
   "source": [
    "string1 = input('Please insert string1: ')\n",
    "print(len(string1))"
   ]
  },
  {
   "cell_type": "markdown",
   "metadata": {
    "id": "S_tdcZlcFl_U"
   },
   "source": [
    "## Question33"
   ]
  },
  {
   "cell_type": "code",
   "execution_count": null,
   "metadata": {
    "colab": {
     "base_uri": "https://localhost:8080/"
    },
    "executionInfo": {
     "elapsed": 472204,
     "status": "ok",
     "timestamp": 1616138124178,
     "user": {
      "displayName": "Tautology Madebyai",
      "photoUrl": "https://lh3.googleusercontent.com/a-/AOh14GgIuxJTOXeU2g-OcdBfWS1NSCgofk20ST_TdkDm=s64",
      "userId": "06969950300190082095"
     },
     "user_tz": -420
    },
    "id": "A9s_eVSBFl_U",
    "outputId": "59e48d48-664a-4d80-853f-67ac3ce33fff"
   },
   "outputs": [
    {
     "name": "stdout",
     "output_type": "stream",
     "text": [
      "Please insert string1: การเรียน\n",
      "True\n"
     ]
    }
   ],
   "source": [
    "string1 = input('Please insert string1: ')\n",
    "print('ก' in string1)"
   ]
  },
  {
   "cell_type": "markdown",
   "metadata": {
    "id": "LYpOtiaaFl_U"
   },
   "source": [
    "## Question34"
   ]
  },
  {
   "cell_type": "code",
   "execution_count": null,
   "metadata": {
    "colab": {
     "base_uri": "https://localhost:8080/"
    },
    "executionInfo": {
     "elapsed": 493667,
     "status": "ok",
     "timestamp": 1616138145670,
     "user": {
      "displayName": "Tautology Madebyai",
      "photoUrl": "https://lh3.googleusercontent.com/a-/AOh14GgIuxJTOXeU2g-OcdBfWS1NSCgofk20ST_TdkDm=s64",
      "userId": "06969950300190082095"
     },
     "user_tz": -420
    },
    "id": "xPP3Y4e-Fl_U",
    "outputId": "38332ac8-b494-457d-c68c-6d23475665d9"
   },
   "outputs": [
    {
     "name": "stdout",
     "output_type": "stream",
     "text": [
      "Please insert string1: abcde\n",
      "Please insert string2: cd\n",
      "True\n"
     ]
    }
   ],
   "source": [
    "string1 = input('Please insert string1: ')\n",
    "string2 = input('Please insert string2: ')\n",
    "print(string2 in string1)"
   ]
  },
  {
   "cell_type": "markdown",
   "metadata": {
    "id": "tf7ICvpUFl_U"
   },
   "source": [
    "## Question35"
   ]
  },
  {
   "cell_type": "code",
   "execution_count": null,
   "metadata": {
    "colab": {
     "base_uri": "https://localhost:8080/"
    },
    "executionInfo": {
     "elapsed": 503331,
     "status": "ok",
     "timestamp": 1616138155362,
     "user": {
      "displayName": "Tautology Madebyai",
      "photoUrl": "https://lh3.googleusercontent.com/a-/AOh14GgIuxJTOXeU2g-OcdBfWS1NSCgofk20ST_TdkDm=s64",
      "userId": "06969950300190082095"
     },
     "user_tz": -420
    },
    "id": "yMrov6zRFl_U",
    "outputId": "c2780d6d-4775-4301-d8b4-52beff2949de"
   },
   "outputs": [
    {
     "name": "stdout",
     "output_type": "stream",
     "text": [
      "Please insert string1: abcd\n",
      "Abcd\n"
     ]
    }
   ],
   "source": [
    "string1 = input('Please insert string1: ')\n",
    "print(string1.replace('a', 'A'))"
   ]
  },
  {
   "cell_type": "markdown",
   "metadata": {
    "id": "upnixc6UFl_V"
   },
   "source": [
    "## Question36"
   ]
  },
  {
   "cell_type": "code",
   "execution_count": null,
   "metadata": {
    "colab": {
     "base_uri": "https://localhost:8080/"
    },
    "executionInfo": {
     "elapsed": 550645,
     "status": "ok",
     "timestamp": 1616138202704,
     "user": {
      "displayName": "Tautology Madebyai",
      "photoUrl": "https://lh3.googleusercontent.com/a-/AOh14GgIuxJTOXeU2g-OcdBfWS1NSCgofk20ST_TdkDm=s64",
      "userId": "06969950300190082095"
     },
     "user_tz": -420
    },
    "id": "AFpW6LGKFl_V",
    "outputId": "a5f3da62-c409-4d8f-883d-fb3777c96a0f"
   },
   "outputs": [
    {
     "name": "stdout",
     "output_type": "stream",
     "text": [
      "Please insert string1: aaa\n",
      "AAA\n"
     ]
    }
   ],
   "source": [
    "string1 = input('Please insert string1: ')\n",
    "string2 = string1.replace('a', 'A')\n",
    "print(string2)"
   ]
  },
  {
   "cell_type": "markdown",
   "metadata": {
    "id": "BiXXaaOXFl_V"
   },
   "source": [
    "## Question37"
   ]
  },
  {
   "cell_type": "code",
   "execution_count": null,
   "metadata": {
    "colab": {
     "base_uri": "https://localhost:8080/"
    },
    "executionInfo": {
     "elapsed": 567278,
     "status": "ok",
     "timestamp": 1616138219365,
     "user": {
      "displayName": "Tautology Madebyai",
      "photoUrl": "https://lh3.googleusercontent.com/a-/AOh14GgIuxJTOXeU2g-OcdBfWS1NSCgofk20ST_TdkDm=s64",
      "userId": "06969950300190082095"
     },
     "user_tz": -420
    },
    "id": "bn4BbKIMFl_V",
    "outputId": "218134e8-5f4b-4cc2-e217-8d890bcafb64"
   },
   "outputs": [
    {
     "name": "stdout",
     "output_type": "stream",
     "text": [
      "Please insert sentence: learning python is good for you\n",
      "['learning', 'python', 'is', 'good', 'for', 'you']\n"
     ]
    }
   ],
   "source": [
    "sentence = input('Please insert sentence: ')\n",
    "print(sentence.split(' '))"
   ]
  },
  {
   "cell_type": "markdown",
   "metadata": {
    "id": "w2uRTnFvFl_V"
   },
   "source": [
    "## Question38"
   ]
  },
  {
   "cell_type": "code",
   "execution_count": null,
   "metadata": {
    "colab": {
     "base_uri": "https://localhost:8080/"
    },
    "executionInfo": {
     "elapsed": 584739,
     "status": "ok",
     "timestamp": 1616138236854,
     "user": {
      "displayName": "Tautology Madebyai",
      "photoUrl": "https://lh3.googleusercontent.com/a-/AOh14GgIuxJTOXeU2g-OcdBfWS1NSCgofk20ST_TdkDm=s64",
      "userId": "06969950300190082095"
     },
     "user_tz": -420
    },
    "id": "JyioG6jiFl_V",
    "outputId": "96478660-6780-4a6f-aa38-0dade18a87f0"
   },
   "outputs": [
    {
     "name": "stdout",
     "output_type": "stream",
     "text": [
      "Please insert sentence: one-two-three\n",
      "Please insert c: -\n",
      "['one', 'two', 'three']\n"
     ]
    }
   ],
   "source": [
    "sentence = input('Please insert sentence: ')\n",
    "c = input('Please insert c: ')\n",
    "print(sentence.split(c))"
   ]
  },
  {
   "cell_type": "markdown",
   "metadata": {
    "id": "rwjty3paFl_V"
   },
   "source": [
    "## Question39"
   ]
  },
  {
   "cell_type": "code",
   "execution_count": null,
   "metadata": {
    "colab": {
     "base_uri": "https://localhost:8080/"
    },
    "executionInfo": {
     "elapsed": 597407,
     "status": "ok",
     "timestamp": 1616138249551,
     "user": {
      "displayName": "Tautology Madebyai",
      "photoUrl": "https://lh3.googleusercontent.com/a-/AOh14GgIuxJTOXeU2g-OcdBfWS1NSCgofk20ST_TdkDm=s64",
      "userId": "06969950300190082095"
     },
     "user_tz": -420
    },
    "id": "hgNYKxLVFl_V",
    "outputId": "e677d6b1-5d3e-457c-9bb6-98f7b39c6f7c"
   },
   "outputs": [
    {
     "name": "stdout",
     "output_type": "stream",
     "text": [
      "Please insert str1: ab\n",
      "Please insert str2: cd\n",
      "abcd\n"
     ]
    }
   ],
   "source": [
    "str1 = input('Please insert str1: ')\n",
    "str2 = input('Please insert str2: ')\n",
    "print(str1 + str2)"
   ]
  },
  {
   "cell_type": "markdown",
   "metadata": {
    "id": "Q1g_UyQQFl_W"
   },
   "source": [
    "# -------------------- List --------------------"
   ]
  },
  {
   "cell_type": "markdown",
   "metadata": {
    "id": "4skh_8ehFl_W"
   },
   "source": [
    "## Question40"
   ]
  },
  {
   "cell_type": "code",
   "execution_count": null,
   "metadata": {
    "colab": {
     "base_uri": "https://localhost:8080/"
    },
    "executionInfo": {
     "elapsed": 597380,
     "status": "ok",
     "timestamp": 1616138249552,
     "user": {
      "displayName": "Tautology Madebyai",
      "photoUrl": "https://lh3.googleusercontent.com/a-/AOh14GgIuxJTOXeU2g-OcdBfWS1NSCgofk20ST_TdkDm=s64",
      "userId": "06969950300190082095"
     },
     "user_tz": -420
    },
    "id": "VrPJ2MRHFl_W",
    "outputId": "99df46b3-826a-4a80-f183-693ba118cf7c"
   },
   "outputs": [
    {
     "name": "stdout",
     "output_type": "stream",
     "text": [
      "[0, 1, 2, 'a', 'b', 'c']\n",
      "<class 'list'>\n"
     ]
    }
   ],
   "source": [
    "list1 = [0, 1, 2, 'a', 'b', 'c']\n",
    "print(list1)\n",
    "print(type(list1))"
   ]
  },
  {
   "cell_type": "markdown",
   "metadata": {
    "id": "K2yTX094Fl_W"
   },
   "source": [
    "## Question41"
   ]
  },
  {
   "cell_type": "code",
   "execution_count": null,
   "metadata": {
    "colab": {
     "base_uri": "https://localhost:8080/"
    },
    "executionInfo": {
     "elapsed": 597351,
     "status": "ok",
     "timestamp": 1616138249552,
     "user": {
      "displayName": "Tautology Madebyai",
      "photoUrl": "https://lh3.googleusercontent.com/a-/AOh14GgIuxJTOXeU2g-OcdBfWS1NSCgofk20ST_TdkDm=s64",
      "userId": "06969950300190082095"
     },
     "user_tz": -420
    },
    "id": "oy8fmx_AFl_W",
    "outputId": "a56d3963-3904-4267-e672-8937d1b08730"
   },
   "outputs": [
    {
     "name": "stdout",
     "output_type": "stream",
     "text": [
      "2\n"
     ]
    }
   ],
   "source": [
    "list1 = [0, 1, 2, 'a', 'b', 'c']\n",
    "print(list1[2])"
   ]
  },
  {
   "cell_type": "markdown",
   "metadata": {
    "id": "qTes1dECFl_W"
   },
   "source": [
    "## Question42"
   ]
  },
  {
   "cell_type": "code",
   "execution_count": null,
   "metadata": {
    "colab": {
     "base_uri": "https://localhost:8080/"
    },
    "executionInfo": {
     "elapsed": 597322,
     "status": "ok",
     "timestamp": 1616138249552,
     "user": {
      "displayName": "Tautology Madebyai",
      "photoUrl": "https://lh3.googleusercontent.com/a-/AOh14GgIuxJTOXeU2g-OcdBfWS1NSCgofk20ST_TdkDm=s64",
      "userId": "06969950300190082095"
     },
     "user_tz": -420
    },
    "id": "6wNucfFZFl_W",
    "outputId": "3f4dad06-ef7c-4fc3-d24d-8c2a0f3f74cb"
   },
   "outputs": [
    {
     "name": "stdout",
     "output_type": "stream",
     "text": [
      "a\n"
     ]
    }
   ],
   "source": [
    "list1 = [0, 1, 2, 'a', 'b', 'c']\n",
    "print(list1[-3])"
   ]
  },
  {
   "cell_type": "markdown",
   "metadata": {
    "id": "YJV_2sLjFl_X"
   },
   "source": [
    "## Question43"
   ]
  },
  {
   "cell_type": "markdown",
   "metadata": {
    "id": "JzeOJun3Fl_X"
   },
   "source": [
    "### 43.1 solution"
   ]
  },
  {
   "cell_type": "code",
   "execution_count": null,
   "metadata": {
    "colab": {
     "base_uri": "https://localhost:8080/"
    },
    "executionInfo": {
     "elapsed": 597294,
     "status": "ok",
     "timestamp": 1616138249552,
     "user": {
      "displayName": "Tautology Madebyai",
      "photoUrl": "https://lh3.googleusercontent.com/a-/AOh14GgIuxJTOXeU2g-OcdBfWS1NSCgofk20ST_TdkDm=s64",
      "userId": "06969950300190082095"
     },
     "user_tz": -420
    },
    "id": "xXOfg6RJFl_X",
    "outputId": "2c961a5c-1080-4f6f-c553-2e3012430d04",
    "scrolled": true
   },
   "outputs": [
    {
     "name": "stdout",
     "output_type": "stream",
     "text": [
      "0\n"
     ]
    }
   ],
   "source": [
    "list1 = [0, 1, 2, 'a', 'b', 'c']\n",
    "print(list1[0])"
   ]
  },
  {
   "cell_type": "markdown",
   "metadata": {
    "id": "ReZ17PRcFl_X"
   },
   "source": [
    "### 43.2 solution"
   ]
  },
  {
   "cell_type": "code",
   "execution_count": null,
   "metadata": {
    "colab": {
     "base_uri": "https://localhost:8080/"
    },
    "executionInfo": {
     "elapsed": 597266,
     "status": "ok",
     "timestamp": 1616138249552,
     "user": {
      "displayName": "Tautology Madebyai",
      "photoUrl": "https://lh3.googleusercontent.com/a-/AOh14GgIuxJTOXeU2g-OcdBfWS1NSCgofk20ST_TdkDm=s64",
      "userId": "06969950300190082095"
     },
     "user_tz": -420
    },
    "id": "63bnn853Fl_X",
    "outputId": "426ba868-c487-4984-bc9c-f36ce6bc1f19"
   },
   "outputs": [
    {
     "name": "stdout",
     "output_type": "stream",
     "text": [
      "0\n"
     ]
    }
   ],
   "source": [
    "list1 = [0, 1, 2, 'a', 'b', 'c']\n",
    "print(list1[-6])"
   ]
  },
  {
   "cell_type": "markdown",
   "metadata": {
    "id": "SELZK_X3Fl_Y"
   },
   "source": [
    "## Question44"
   ]
  },
  {
   "cell_type": "markdown",
   "metadata": {
    "id": "OBdSJ8UJFl_Y"
   },
   "source": [
    "### 44.1 solution"
   ]
  },
  {
   "cell_type": "code",
   "execution_count": null,
   "metadata": {
    "colab": {
     "base_uri": "https://localhost:8080/"
    },
    "executionInfo": {
     "elapsed": 597238,
     "status": "ok",
     "timestamp": 1616138249552,
     "user": {
      "displayName": "Tautology Madebyai",
      "photoUrl": "https://lh3.googleusercontent.com/a-/AOh14GgIuxJTOXeU2g-OcdBfWS1NSCgofk20ST_TdkDm=s64",
      "userId": "06969950300190082095"
     },
     "user_tz": -420
    },
    "id": "KHjgmk9RFl_Y",
    "outputId": "daa4e058-d30c-47eb-c592-60ac4376ac1d",
    "scrolled": true
   },
   "outputs": [
    {
     "name": "stdout",
     "output_type": "stream",
     "text": [
      "b\n"
     ]
    }
   ],
   "source": [
    "list1 = [0, 1, 2, 'a', 'b', 'c']\n",
    "print(list1[-2])"
   ]
  },
  {
   "cell_type": "markdown",
   "metadata": {
    "id": "5YjVlB0aFl_Y"
   },
   "source": [
    "### 44.2 solution"
   ]
  },
  {
   "cell_type": "code",
   "execution_count": null,
   "metadata": {
    "colab": {
     "base_uri": "https://localhost:8080/"
    },
    "executionInfo": {
     "elapsed": 597209,
     "status": "ok",
     "timestamp": 1616138249552,
     "user": {
      "displayName": "Tautology Madebyai",
      "photoUrl": "https://lh3.googleusercontent.com/a-/AOh14GgIuxJTOXeU2g-OcdBfWS1NSCgofk20ST_TdkDm=s64",
      "userId": "06969950300190082095"
     },
     "user_tz": -420
    },
    "id": "wxApgscTFl_Y",
    "outputId": "ac616826-4399-4330-9372-c9f5dc73dabd"
   },
   "outputs": [
    {
     "name": "stdout",
     "output_type": "stream",
     "text": [
      "b\n"
     ]
    }
   ],
   "source": [
    "list1 = [0, 1, 2, 'a', 'b', 'c']\n",
    "print(list1[4])"
   ]
  },
  {
   "cell_type": "markdown",
   "metadata": {
    "id": "WGLTzMg-Fl_Y"
   },
   "source": [
    "## Question45"
   ]
  },
  {
   "cell_type": "code",
   "execution_count": null,
   "metadata": {
    "colab": {
     "base_uri": "https://localhost:8080/"
    },
    "executionInfo": {
     "elapsed": 597182,
     "status": "ok",
     "timestamp": 1616138249553,
     "user": {
      "displayName": "Tautology Madebyai",
      "photoUrl": "https://lh3.googleusercontent.com/a-/AOh14GgIuxJTOXeU2g-OcdBfWS1NSCgofk20ST_TdkDm=s64",
      "userId": "06969950300190082095"
     },
     "user_tz": -420
    },
    "id": "s5jpM8fTFl_Y",
    "outputId": "50c399de-d14e-4d67-b77b-57804ee76294"
   },
   "outputs": [
    {
     "name": "stdout",
     "output_type": "stream",
     "text": [
      "[2, 'a']\n"
     ]
    }
   ],
   "source": [
    "list1 = [0, 1, 2, 'a', 'b', 'c']\n",
    "print(list1[2:4])"
   ]
  },
  {
   "cell_type": "markdown",
   "metadata": {
    "id": "e9cIn0tmFl_Y"
   },
   "source": [
    "## Question46"
   ]
  },
  {
   "cell_type": "code",
   "execution_count": null,
   "metadata": {
    "colab": {
     "base_uri": "https://localhost:8080/"
    },
    "executionInfo": {
     "elapsed": 597154,
     "status": "ok",
     "timestamp": 1616138249553,
     "user": {
      "displayName": "Tautology Madebyai",
      "photoUrl": "https://lh3.googleusercontent.com/a-/AOh14GgIuxJTOXeU2g-OcdBfWS1NSCgofk20ST_TdkDm=s64",
      "userId": "06969950300190082095"
     },
     "user_tz": -420
    },
    "id": "nu5Lb92NFl_Y",
    "outputId": "400cc87c-dbb8-43a4-e5dd-57839c77d8a5"
   },
   "outputs": [
    {
     "name": "stdout",
     "output_type": "stream",
     "text": [
      "[1, 2, 'a', 'b']\n"
     ]
    }
   ],
   "source": [
    "list1 = [0, 1, 2, 'a', 'b', 'c']\n",
    "print(list1[1:-1])"
   ]
  },
  {
   "cell_type": "markdown",
   "metadata": {
    "id": "tNmcibYbFl_Z"
   },
   "source": [
    "## Question47"
   ]
  },
  {
   "cell_type": "markdown",
   "metadata": {
    "id": "aizPA0CwFl_Z"
   },
   "source": [
    "### 47.1 solution"
   ]
  },
  {
   "cell_type": "code",
   "execution_count": null,
   "metadata": {
    "colab": {
     "base_uri": "https://localhost:8080/"
    },
    "executionInfo": {
     "elapsed": 597126,
     "status": "ok",
     "timestamp": 1616138249553,
     "user": {
      "displayName": "Tautology Madebyai",
      "photoUrl": "https://lh3.googleusercontent.com/a-/AOh14GgIuxJTOXeU2g-OcdBfWS1NSCgofk20ST_TdkDm=s64",
      "userId": "06969950300190082095"
     },
     "user_tz": -420
    },
    "id": "yJ_zf_erFl_Z",
    "outputId": "87a6d292-cd26-4bdf-8708-29f085d77026"
   },
   "outputs": [
    {
     "name": "stdout",
     "output_type": "stream",
     "text": [
      "[1, 2, 'a', 'b']\n"
     ]
    }
   ],
   "source": [
    "list1 = [0, 1, 2, 'a', 'b', 'c']\n",
    "print(list1[1:5])"
   ]
  },
  {
   "cell_type": "markdown",
   "metadata": {
    "id": "wYhZMObnFl_Z"
   },
   "source": [
    "### 47.2 solution"
   ]
  },
  {
   "cell_type": "code",
   "execution_count": null,
   "metadata": {
    "colab": {
     "base_uri": "https://localhost:8080/"
    },
    "executionInfo": {
     "elapsed": 597098,
     "status": "ok",
     "timestamp": 1616138249553,
     "user": {
      "displayName": "Tautology Madebyai",
      "photoUrl": "https://lh3.googleusercontent.com/a-/AOh14GgIuxJTOXeU2g-OcdBfWS1NSCgofk20ST_TdkDm=s64",
      "userId": "06969950300190082095"
     },
     "user_tz": -420
    },
    "id": "zN6FbXHpFl_Z",
    "outputId": "81dd93b5-20d4-4fa7-e78a-73f00cc721c6"
   },
   "outputs": [
    {
     "name": "stdout",
     "output_type": "stream",
     "text": [
      "[1, 2, 'a', 'b']\n"
     ]
    }
   ],
   "source": [
    "list1 = [0, 1, 2, 'a', 'b', 'c']\n",
    "print(list1[1:-1])"
   ]
  },
  {
   "cell_type": "markdown",
   "metadata": {
    "id": "5-G0K50WFl_Z"
   },
   "source": [
    "### 47.3 solution"
   ]
  },
  {
   "cell_type": "code",
   "execution_count": null,
   "metadata": {
    "colab": {
     "base_uri": "https://localhost:8080/"
    },
    "executionInfo": {
     "elapsed": 597070,
     "status": "ok",
     "timestamp": 1616138249553,
     "user": {
      "displayName": "Tautology Madebyai",
      "photoUrl": "https://lh3.googleusercontent.com/a-/AOh14GgIuxJTOXeU2g-OcdBfWS1NSCgofk20ST_TdkDm=s64",
      "userId": "06969950300190082095"
     },
     "user_tz": -420
    },
    "id": "PJUnfXOLFl_Z",
    "outputId": "e4a0fafc-5394-4f55-d0c1-62933800a7bf"
   },
   "outputs": [
    {
     "name": "stdout",
     "output_type": "stream",
     "text": [
      "[1, 2, 'a', 'b']\n"
     ]
    }
   ],
   "source": [
    "list1 = [0, 1, 2, 'a', 'b', 'c']\n",
    "print(list1[-5:5])"
   ]
  },
  {
   "cell_type": "markdown",
   "metadata": {
    "id": "4VBMbRRFFl_Z"
   },
   "source": [
    "### 47.4 solution"
   ]
  },
  {
   "cell_type": "code",
   "execution_count": null,
   "metadata": {
    "colab": {
     "base_uri": "https://localhost:8080/"
    },
    "executionInfo": {
     "elapsed": 597042,
     "status": "ok",
     "timestamp": 1616138249553,
     "user": {
      "displayName": "Tautology Madebyai",
      "photoUrl": "https://lh3.googleusercontent.com/a-/AOh14GgIuxJTOXeU2g-OcdBfWS1NSCgofk20ST_TdkDm=s64",
      "userId": "06969950300190082095"
     },
     "user_tz": -420
    },
    "id": "0JAUP6MBFl_Z",
    "outputId": "17ce34d2-09c1-492b-91c5-ba01bf8d356b"
   },
   "outputs": [
    {
     "name": "stdout",
     "output_type": "stream",
     "text": [
      "[1, 2, 'a', 'b']\n"
     ]
    }
   ],
   "source": [
    "list1 = [0, 1, 2, 'a', 'b', 'c']\n",
    "print(list1[-5:-1])"
   ]
  },
  {
   "cell_type": "markdown",
   "metadata": {
    "id": "2Kh_eanzFl_Z"
   },
   "source": [
    "## Question48"
   ]
  },
  {
   "cell_type": "markdown",
   "metadata": {
    "id": "qfdpIRoZFl_a"
   },
   "source": [
    "### 48.1 solution"
   ]
  },
  {
   "cell_type": "code",
   "execution_count": null,
   "metadata": {
    "colab": {
     "base_uri": "https://localhost:8080/"
    },
    "executionInfo": {
     "elapsed": 597014,
     "status": "ok",
     "timestamp": 1616138249553,
     "user": {
      "displayName": "Tautology Madebyai",
      "photoUrl": "https://lh3.googleusercontent.com/a-/AOh14GgIuxJTOXeU2g-OcdBfWS1NSCgofk20ST_TdkDm=s64",
      "userId": "06969950300190082095"
     },
     "user_tz": -420
    },
    "id": "BK0x17N2Fl_a",
    "outputId": "93043c46-c9f7-4b04-8bdd-c3e09ba723c9"
   },
   "outputs": [
    {
     "name": "stdout",
     "output_type": "stream",
     "text": [
      "['a', 'b', 'c']\n"
     ]
    }
   ],
   "source": [
    "list1 = [0, 1, 2, 'a', 'b', 'c']\n",
    "print(list1[3:])"
   ]
  },
  {
   "cell_type": "markdown",
   "metadata": {
    "id": "YIgw3qANFl_a"
   },
   "source": [
    "### 48.2 solution"
   ]
  },
  {
   "cell_type": "code",
   "execution_count": null,
   "metadata": {
    "colab": {
     "base_uri": "https://localhost:8080/"
    },
    "executionInfo": {
     "elapsed": 596986,
     "status": "ok",
     "timestamp": 1616138249553,
     "user": {
      "displayName": "Tautology Madebyai",
      "photoUrl": "https://lh3.googleusercontent.com/a-/AOh14GgIuxJTOXeU2g-OcdBfWS1NSCgofk20ST_TdkDm=s64",
      "userId": "06969950300190082095"
     },
     "user_tz": -420
    },
    "id": "rvdTbfiFFl_a",
    "outputId": "34b2ac23-4c36-47a3-a6e4-bf6af8e415bf",
    "scrolled": true
   },
   "outputs": [
    {
     "name": "stdout",
     "output_type": "stream",
     "text": [
      "['a', 'b', 'c']\n"
     ]
    }
   ],
   "source": [
    "list1 = [0, 1, 2, 'a', 'b', 'c']\n",
    "print(list1[-3:])"
   ]
  },
  {
   "cell_type": "markdown",
   "metadata": {
    "id": "MbLc9BmlFl_a"
   },
   "source": [
    "## Question49"
   ]
  },
  {
   "cell_type": "markdown",
   "metadata": {
    "id": "NkB1bRY1Fl_a"
   },
   "source": [
    "### 49.1 solution"
   ]
  },
  {
   "cell_type": "code",
   "execution_count": null,
   "metadata": {
    "colab": {
     "base_uri": "https://localhost:8080/"
    },
    "executionInfo": {
     "elapsed": 596957,
     "status": "ok",
     "timestamp": 1616138249554,
     "user": {
      "displayName": "Tautology Madebyai",
      "photoUrl": "https://lh3.googleusercontent.com/a-/AOh14GgIuxJTOXeU2g-OcdBfWS1NSCgofk20ST_TdkDm=s64",
      "userId": "06969950300190082095"
     },
     "user_tz": -420
    },
    "id": "j-Mjfdo1Fl_a",
    "outputId": "f47204dc-df96-4841-c742-acf2b676dcb4"
   },
   "outputs": [
    {
     "name": "stdout",
     "output_type": "stream",
     "text": [
      "[0, 1, 2]\n"
     ]
    }
   ],
   "source": [
    "list1 = [0, 1, 2, 'a', 'b', 'c']\n",
    "print(list1[:3])"
   ]
  },
  {
   "cell_type": "markdown",
   "metadata": {
    "id": "39AsyNG8Fl_a"
   },
   "source": [
    "### 49.2 solution"
   ]
  },
  {
   "cell_type": "code",
   "execution_count": null,
   "metadata": {
    "colab": {
     "base_uri": "https://localhost:8080/"
    },
    "executionInfo": {
     "elapsed": 596929,
     "status": "ok",
     "timestamp": 1616138249554,
     "user": {
      "displayName": "Tautology Madebyai",
      "photoUrl": "https://lh3.googleusercontent.com/a-/AOh14GgIuxJTOXeU2g-OcdBfWS1NSCgofk20ST_TdkDm=s64",
      "userId": "06969950300190082095"
     },
     "user_tz": -420
    },
    "id": "J4x3kx_UFl_a",
    "outputId": "f0a6e077-af2d-49c0-a876-10d040b82522",
    "scrolled": true
   },
   "outputs": [
    {
     "name": "stdout",
     "output_type": "stream",
     "text": [
      "[0, 1, 2]\n"
     ]
    }
   ],
   "source": [
    "list1 = [0, 1, 2, 'a', 'b', 'c']\n",
    "print(list1[:-3])"
   ]
  },
  {
   "cell_type": "markdown",
   "metadata": {
    "id": "HGhKPeX2Fl_a"
   },
   "source": [
    "## Question50"
   ]
  },
  {
   "cell_type": "code",
   "execution_count": null,
   "metadata": {
    "colab": {
     "base_uri": "https://localhost:8080/"
    },
    "executionInfo": {
     "elapsed": 596901,
     "status": "ok",
     "timestamp": 1616138249554,
     "user": {
      "displayName": "Tautology Madebyai",
      "photoUrl": "https://lh3.googleusercontent.com/a-/AOh14GgIuxJTOXeU2g-OcdBfWS1NSCgofk20ST_TdkDm=s64",
      "userId": "06969950300190082095"
     },
     "user_tz": -420
    },
    "id": "PK48i_ZrFl_a",
    "outputId": "24db9bb9-4946-4bd5-9fcb-fa2f663af29e"
   },
   "outputs": [
    {
     "name": "stdout",
     "output_type": "stream",
     "text": [
      "['ant', 'bird', 'cat', 'donkey', 'eagle']\n"
     ]
    }
   ],
   "source": [
    "list2 = ['ant', 'bird', 'cat', 'dog', 'eagle']\n",
    "list2[3] = 'donkey'\n",
    "print(list2)"
   ]
  },
  {
   "cell_type": "markdown",
   "metadata": {
    "id": "7lPuGGSUFl_b"
   },
   "source": [
    "## Question51"
   ]
  },
  {
   "cell_type": "markdown",
   "metadata": {
    "id": "VPJAXYrZFl_b"
   },
   "source": [
    "### 51.1 solution"
   ]
  },
  {
   "cell_type": "code",
   "execution_count": null,
   "metadata": {
    "colab": {
     "base_uri": "https://localhost:8080/"
    },
    "executionInfo": {
     "elapsed": 596873,
     "status": "ok",
     "timestamp": 1616138249554,
     "user": {
      "displayName": "Tautology Madebyai",
      "photoUrl": "https://lh3.googleusercontent.com/a-/AOh14GgIuxJTOXeU2g-OcdBfWS1NSCgofk20ST_TdkDm=s64",
      "userId": "06969950300190082095"
     },
     "user_tz": -420
    },
    "id": "wBNIDqhRFl_b",
    "outputId": "cf954c35-df4c-4556-b4d8-ad84b5669972"
   },
   "outputs": [
    {
     "name": "stdout",
     "output_type": "stream",
     "text": [
      "['alligator', 'bird', 'cat', 'dog', 'eagle']\n"
     ]
    }
   ],
   "source": [
    "list2 = ['ant', 'bird', 'cat', 'dog', 'eagle']\n",
    "list2[0] = 'alligator'\n",
    "print(list2)"
   ]
  },
  {
   "cell_type": "markdown",
   "metadata": {
    "id": "oX9wBzGJFl_b"
   },
   "source": [
    "### 51.2 solution"
   ]
  },
  {
   "cell_type": "code",
   "execution_count": null,
   "metadata": {
    "colab": {
     "base_uri": "https://localhost:8080/"
    },
    "executionInfo": {
     "elapsed": 596845,
     "status": "ok",
     "timestamp": 1616138249554,
     "user": {
      "displayName": "Tautology Madebyai",
      "photoUrl": "https://lh3.googleusercontent.com/a-/AOh14GgIuxJTOXeU2g-OcdBfWS1NSCgofk20ST_TdkDm=s64",
      "userId": "06969950300190082095"
     },
     "user_tz": -420
    },
    "id": "sTI_fVOdFl_b",
    "outputId": "c2c88d1e-be88-47df-b343-652bd6dc8b31"
   },
   "outputs": [
    {
     "name": "stdout",
     "output_type": "stream",
     "text": [
      "['alligator', 'bird', 'cat', 'dog', 'eagle']\n"
     ]
    }
   ],
   "source": [
    "list2 = ['ant', 'bird', 'cat', 'dog', 'eagle']\n",
    "list2[-5] = 'alligator'\n",
    "print(list2)"
   ]
  },
  {
   "cell_type": "markdown",
   "metadata": {
    "id": "0l4lry27Fl_b"
   },
   "source": [
    "## Question52"
   ]
  },
  {
   "cell_type": "code",
   "execution_count": null,
   "metadata": {
    "colab": {
     "base_uri": "https://localhost:8080/"
    },
    "executionInfo": {
     "elapsed": 596817,
     "status": "ok",
     "timestamp": 1616138249554,
     "user": {
      "displayName": "Tautology Madebyai",
      "photoUrl": "https://lh3.googleusercontent.com/a-/AOh14GgIuxJTOXeU2g-OcdBfWS1NSCgofk20ST_TdkDm=s64",
      "userId": "06969950300190082095"
     },
     "user_tz": -420
    },
    "id": "Yj9QWG6qFl_b",
    "outputId": "7e077c73-54d6-4fcb-a890-48c6599e1df6"
   },
   "outputs": [
    {
     "name": "stdout",
     "output_type": "stream",
     "text": [
      "['ant', 'bird', 'cat', 'dog', 'eagle', 'fish']\n"
     ]
    }
   ],
   "source": [
    "list2 = ['ant', 'bird', 'cat', 'dog', 'eagle']\n",
    "list2.append('fish')\n",
    "print(list2)"
   ]
  },
  {
   "cell_type": "markdown",
   "metadata": {
    "id": "_JWXZo2hFl_b"
   },
   "source": [
    "## Question53"
   ]
  },
  {
   "cell_type": "code",
   "execution_count": null,
   "metadata": {
    "colab": {
     "base_uri": "https://localhost:8080/"
    },
    "executionInfo": {
     "elapsed": 791113,
     "status": "ok",
     "timestamp": 1616138443878,
     "user": {
      "displayName": "Tautology Madebyai",
      "photoUrl": "https://lh3.googleusercontent.com/a-/AOh14GgIuxJTOXeU2g-OcdBfWS1NSCgofk20ST_TdkDm=s64",
      "userId": "06969950300190082095"
     },
     "user_tz": -420
    },
    "id": "08kK4_Y2Fl_b",
    "outputId": "32019bcd-827f-4acf-b47a-31157382e3a9"
   },
   "outputs": [
    {
     "name": "stdout",
     "output_type": "stream",
     "text": [
      "Please insert first element: ant\n",
      "Please insert second element: baboon\n",
      "Please insert third element: camel\n",
      "['ant', 'baboon', 'camel']\n"
     ]
    }
   ],
   "source": [
    "list2 = []\n",
    "str1 = input('Please insert first element: ')\n",
    "str2 = input('Please insert second element: ')\n",
    "str3 = input('Please insert third element: ')\n",
    "list2.append(str1)\n",
    "list2.append(str2)\n",
    "list2.append(str3)\n",
    "print(list2)"
   ]
  },
  {
   "cell_type": "markdown",
   "metadata": {
    "id": "1jhDe2sBFl_b"
   },
   "source": [
    "## Question54"
   ]
  },
  {
   "cell_type": "code",
   "execution_count": null,
   "metadata": {
    "colab": {
     "base_uri": "https://localhost:8080/"
    },
    "executionInfo": {
     "elapsed": 791086,
     "status": "ok",
     "timestamp": 1616138443879,
     "user": {
      "displayName": "Tautology Madebyai",
      "photoUrl": "https://lh3.googleusercontent.com/a-/AOh14GgIuxJTOXeU2g-OcdBfWS1NSCgofk20ST_TdkDm=s64",
      "userId": "06969950300190082095"
     },
     "user_tz": -420
    },
    "id": "QohMySrSFl_c",
    "outputId": "0e0a055d-4456-4303-a8e4-99c910628f38"
   },
   "outputs": [
    {
     "name": "stdout",
     "output_type": "stream",
     "text": [
      "['apple', 'banana', 'cherry', 'eggfruit']\n"
     ]
    }
   ],
   "source": [
    "list3 = ['apple', 'cherry', 'eggfruit']\n",
    "list3.insert(1, 'banana')\n",
    "print(list3)"
   ]
  },
  {
   "cell_type": "markdown",
   "metadata": {
    "id": "qCctwFWgFl_c"
   },
   "source": [
    "## Question55"
   ]
  },
  {
   "cell_type": "code",
   "execution_count": null,
   "metadata": {
    "colab": {
     "base_uri": "https://localhost:8080/"
    },
    "executionInfo": {
     "elapsed": 791058,
     "status": "ok",
     "timestamp": 1616138443879,
     "user": {
      "displayName": "Tautology Madebyai",
      "photoUrl": "https://lh3.googleusercontent.com/a-/AOh14GgIuxJTOXeU2g-OcdBfWS1NSCgofk20ST_TdkDm=s64",
      "userId": "06969950300190082095"
     },
     "user_tz": -420
    },
    "id": "P3ZPYjtIFl_c",
    "outputId": "1fd9bf7a-f1d2-4e0f-87b9-b1797b765404"
   },
   "outputs": [
    {
     "name": "stdout",
     "output_type": "stream",
     "text": [
      "['apple', 'banana', 'dewberry', 'cherry', 'eggfruit']\n"
     ]
    }
   ],
   "source": [
    "list3 = ['apple', 'banana', 'cherry', 'eggfruit']\n",
    "list3.insert(-2, 'dewberry')\n",
    "print(list3)"
   ]
  },
  {
   "cell_type": "markdown",
   "metadata": {
    "id": "yW9cX5cLFl_c"
   },
   "source": [
    "## Question56"
   ]
  },
  {
   "cell_type": "code",
   "execution_count": null,
   "metadata": {
    "colab": {
     "base_uri": "https://localhost:8080/"
    },
    "executionInfo": {
     "elapsed": 791029,
     "status": "ok",
     "timestamp": 1616138443879,
     "user": {
      "displayName": "Tautology Madebyai",
      "photoUrl": "https://lh3.googleusercontent.com/a-/AOh14GgIuxJTOXeU2g-OcdBfWS1NSCgofk20ST_TdkDm=s64",
      "userId": "06969950300190082095"
     },
     "user_tz": -420
    },
    "id": "0-OHMWwYFl_c",
    "outputId": "ee7c3f1b-ace1-460d-a197-822df1d411b9"
   },
   "outputs": [
    {
     "name": "stdout",
     "output_type": "stream",
     "text": [
      "[0, 1, 2, 3, 4]\n"
     ]
    }
   ],
   "source": [
    "list4 = [0, 4, 2, 3, 1]\n",
    "list4.sort()\n",
    "print(list4)"
   ]
  },
  {
   "cell_type": "markdown",
   "metadata": {
    "id": "BJCXTsCuFl_c"
   },
   "source": [
    "## Question57"
   ]
  },
  {
   "cell_type": "code",
   "execution_count": null,
   "metadata": {
    "colab": {
     "base_uri": "https://localhost:8080/"
    },
    "executionInfo": {
     "elapsed": 791001,
     "status": "ok",
     "timestamp": 1616138443879,
     "user": {
      "displayName": "Tautology Madebyai",
      "photoUrl": "https://lh3.googleusercontent.com/a-/AOh14GgIuxJTOXeU2g-OcdBfWS1NSCgofk20ST_TdkDm=s64",
      "userId": "06969950300190082095"
     },
     "user_tz": -420
    },
    "id": "dUsvj4hmFl_c",
    "outputId": "4e19a7cc-d730-4d30-8f45-7d79caad2d04"
   },
   "outputs": [
    {
     "name": "stdout",
     "output_type": "stream",
     "text": [
      "[4, 3, 2, 1, 0]\n"
     ]
    }
   ],
   "source": [
    "list4 = [0, 4, 2, 3, 1]\n",
    "list4.sort(reverse=True)\n",
    "print(list4)"
   ]
  },
  {
   "cell_type": "markdown",
   "metadata": {
    "id": "si_-p8ayFl_d"
   },
   "source": [
    "## Question58"
   ]
  },
  {
   "cell_type": "code",
   "execution_count": null,
   "metadata": {
    "colab": {
     "base_uri": "https://localhost:8080/"
    },
    "executionInfo": {
     "elapsed": 790973,
     "status": "ok",
     "timestamp": 1616138443879,
     "user": {
      "displayName": "Tautology Madebyai",
      "photoUrl": "https://lh3.googleusercontent.com/a-/AOh14GgIuxJTOXeU2g-OcdBfWS1NSCgofk20ST_TdkDm=s64",
      "userId": "06969950300190082095"
     },
     "user_tz": -420
    },
    "id": "3zfjkXwAFl_d",
    "outputId": "6f5f9a8c-5219-4c02-fc02-e244907723cc",
    "scrolled": true
   },
   "outputs": [
    {
     "name": "stdout",
     "output_type": "stream",
     "text": [
      "[0, 1, 2, 3, 4]\n"
     ]
    }
   ],
   "source": [
    "list4 = [0, 4, 2, 3, 1]\n",
    "sorted_list4 = sorted(list4)\n",
    "print(sorted_list4)"
   ]
  },
  {
   "cell_type": "markdown",
   "metadata": {
    "id": "3amFAYPOFl_d"
   },
   "source": [
    "## Question59"
   ]
  },
  {
   "cell_type": "code",
   "execution_count": null,
   "metadata": {
    "colab": {
     "base_uri": "https://localhost:8080/"
    },
    "executionInfo": {
     "elapsed": 790945,
     "status": "ok",
     "timestamp": 1616138443879,
     "user": {
      "displayName": "Tautology Madebyai",
      "photoUrl": "https://lh3.googleusercontent.com/a-/AOh14GgIuxJTOXeU2g-OcdBfWS1NSCgofk20ST_TdkDm=s64",
      "userId": "06969950300190082095"
     },
     "user_tz": -420
    },
    "id": "CC_pVVXvFl_d",
    "outputId": "50fecfb3-34b2-49db-fca2-9417121eadcb"
   },
   "outputs": [
    {
     "name": "stdout",
     "output_type": "stream",
     "text": [
      "[4, 3, 2, 1, 0]\n"
     ]
    }
   ],
   "source": [
    "list4 = [0, 4, 2, 3, 1]\n",
    "sorted_list4 = sorted(list4, reverse=True)\n",
    "print(sorted_list4)"
   ]
  },
  {
   "cell_type": "markdown",
   "metadata": {
    "id": "zWb81yLdFl_d"
   },
   "source": [
    "## Question60"
   ]
  },
  {
   "cell_type": "code",
   "execution_count": null,
   "metadata": {
    "colab": {
     "base_uri": "https://localhost:8080/"
    },
    "executionInfo": {
     "elapsed": 790917,
     "status": "ok",
     "timestamp": 1616138443879,
     "user": {
      "displayName": "Tautology Madebyai",
      "photoUrl": "https://lh3.googleusercontent.com/a-/AOh14GgIuxJTOXeU2g-OcdBfWS1NSCgofk20ST_TdkDm=s64",
      "userId": "06969950300190082095"
     },
     "user_tz": -420
    },
    "id": "KrJAuuuTFl_d",
    "outputId": "7579cbec-4f41-4a6e-8962-8546c14e4e5c"
   },
   "outputs": [
    {
     "name": "stdout",
     "output_type": "stream",
     "text": [
      "['a', 'b', 'c', 'd', 'e']\n"
     ]
    }
   ],
   "source": [
    "list5 = ['d', 'a', 'c', 'b', 'e']\n",
    "list5.sort()\n",
    "print(list5)"
   ]
  },
  {
   "cell_type": "markdown",
   "metadata": {
    "id": "pHMN4Z0cFl_d"
   },
   "source": [
    "## Question61"
   ]
  },
  {
   "cell_type": "code",
   "execution_count": null,
   "metadata": {
    "colab": {
     "base_uri": "https://localhost:8080/"
    },
    "executionInfo": {
     "elapsed": 790890,
     "status": "ok",
     "timestamp": 1616138443880,
     "user": {
      "displayName": "Tautology Madebyai",
      "photoUrl": "https://lh3.googleusercontent.com/a-/AOh14GgIuxJTOXeU2g-OcdBfWS1NSCgofk20ST_TdkDm=s64",
      "userId": "06969950300190082095"
     },
     "user_tz": -420
    },
    "id": "sJ4VV0BuFl_d",
    "outputId": "5f28a298-1c45-4311-8f98-160f46c33ac7"
   },
   "outputs": [
    {
     "name": "stdout",
     "output_type": "stream",
     "text": [
      "['e', 'd', 'c', 'b', 'a']\n"
     ]
    }
   ],
   "source": [
    "list5 = ['d', 'a', 'c', 'b', 'e']\n",
    "sorted_list5 = sorted(list5, reverse=True)\n",
    "print(sorted_list5)"
   ]
  },
  {
   "cell_type": "markdown",
   "metadata": {
    "id": "ypRF15SXFl_d"
   },
   "source": [
    "## Question62"
   ]
  },
  {
   "cell_type": "code",
   "execution_count": null,
   "metadata": {
    "colab": {
     "base_uri": "https://localhost:8080/"
    },
    "executionInfo": {
     "elapsed": 790862,
     "status": "ok",
     "timestamp": 1616138443880,
     "user": {
      "displayName": "Tautology Madebyai",
      "photoUrl": "https://lh3.googleusercontent.com/a-/AOh14GgIuxJTOXeU2g-OcdBfWS1NSCgofk20ST_TdkDm=s64",
      "userId": "06969950300190082095"
     },
     "user_tz": -420
    },
    "id": "EKxTE-UdFl_d",
    "outputId": "d57f892c-432a-4018-b30f-52b57c6fe3f6"
   },
   "outputs": [
    {
     "name": "stdout",
     "output_type": "stream",
     "text": [
      "['a', 'b', 'c', 0, 1, 2]\n",
      "[0, 1, 2]\n"
     ]
    }
   ],
   "source": [
    "list1 = ['a', 'b', 'c']\n",
    "list2 = [0, 1, 2]\n",
    "list1.extend(list2)\n",
    "print(list1)\n",
    "print(list2)"
   ]
  },
  {
   "cell_type": "markdown",
   "metadata": {
    "id": "E_mmKPbDFl_d"
   },
   "source": [
    "## Question63"
   ]
  },
  {
   "cell_type": "code",
   "execution_count": null,
   "metadata": {
    "colab": {
     "base_uri": "https://localhost:8080/"
    },
    "executionInfo": {
     "elapsed": 790834,
     "status": "ok",
     "timestamp": 1616138443880,
     "user": {
      "displayName": "Tautology Madebyai",
      "photoUrl": "https://lh3.googleusercontent.com/a-/AOh14GgIuxJTOXeU2g-OcdBfWS1NSCgofk20ST_TdkDm=s64",
      "userId": "06969950300190082095"
     },
     "user_tz": -420
    },
    "id": "zlEetB-7Fl_e",
    "outputId": "d0994e51-2bf4-488d-f9a5-31178df4edcb"
   },
   "outputs": [
    {
     "name": "stdout",
     "output_type": "stream",
     "text": [
      "['a', 'b', 'c']\n",
      "[0, 1, 2]\n",
      "['a', 'b', 'c', 0, 1, 2]\n"
     ]
    }
   ],
   "source": [
    "list1 = ['a', 'b', 'c']\n",
    "list2 = [0, 1, 2]\n",
    "list3 = list1 + list2\n",
    "print(list1)\n",
    "print(list2)\n",
    "print(list3)"
   ]
  },
  {
   "cell_type": "markdown",
   "metadata": {
    "id": "7sLPtGqBFl_e"
   },
   "source": [
    "## Question64"
   ]
  },
  {
   "cell_type": "code",
   "execution_count": null,
   "metadata": {
    "colab": {
     "base_uri": "https://localhost:8080/"
    },
    "executionInfo": {
     "elapsed": 790806,
     "status": "ok",
     "timestamp": 1616138443880,
     "user": {
      "displayName": "Tautology Madebyai",
      "photoUrl": "https://lh3.googleusercontent.com/a-/AOh14GgIuxJTOXeU2g-OcdBfWS1NSCgofk20ST_TdkDm=s64",
      "userId": "06969950300190082095"
     },
     "user_tz": -420
    },
    "id": "58Y2qmnHFl_e",
    "outputId": "09d639b2-5513-42f8-a747-89251ed53734"
   },
   "outputs": [
    {
     "name": "stdout",
     "output_type": "stream",
     "text": [
      "[1, 3, 1, 2, 3]\n"
     ]
    }
   ],
   "source": [
    "list1 = [1, 2, 3, 1, 2, 3]\n",
    "del list1[1]\n",
    "print(list1)"
   ]
  },
  {
   "cell_type": "markdown",
   "metadata": {
    "id": "cP0wZzWoFl_e"
   },
   "source": [
    "## Question65"
   ]
  },
  {
   "cell_type": "code",
   "execution_count": null,
   "metadata": {
    "colab": {
     "base_uri": "https://localhost:8080/"
    },
    "executionInfo": {
     "elapsed": 790779,
     "status": "ok",
     "timestamp": 1616138443881,
     "user": {
      "displayName": "Tautology Madebyai",
      "photoUrl": "https://lh3.googleusercontent.com/a-/AOh14GgIuxJTOXeU2g-OcdBfWS1NSCgofk20ST_TdkDm=s64",
      "userId": "06969950300190082095"
     },
     "user_tz": -420
    },
    "id": "rK-U3ulJFl_e",
    "outputId": "85a7f091-15aa-42e9-920e-9bd81fd631e4"
   },
   "outputs": [
    {
     "name": "stdout",
     "output_type": "stream",
     "text": [
      "[1, 2, 1, 2]\n"
     ]
    }
   ],
   "source": [
    "list1 = [1, 2, 3, 1, 2, 3]\n",
    "del list1[-1]\n",
    "del list1[2]\n",
    "print(list1)"
   ]
  },
  {
   "cell_type": "markdown",
   "metadata": {
    "id": "FpLuCnEyFl_e"
   },
   "source": [
    "## Question66"
   ]
  },
  {
   "cell_type": "code",
   "execution_count": null,
   "metadata": {
    "colab": {
     "base_uri": "https://localhost:8080/"
    },
    "executionInfo": {
     "elapsed": 790751,
     "status": "ok",
     "timestamp": 1616138443881,
     "user": {
      "displayName": "Tautology Madebyai",
      "photoUrl": "https://lh3.googleusercontent.com/a-/AOh14GgIuxJTOXeU2g-OcdBfWS1NSCgofk20ST_TdkDm=s64",
      "userId": "06969950300190082095"
     },
     "user_tz": -420
    },
    "id": "0hfqxwYSFl_e",
    "outputId": "61811f8c-37ef-4b80-a498-9506a46529b7"
   },
   "outputs": [
    {
     "name": "stdout",
     "output_type": "stream",
     "text": [
      "[2, 3, 1, 2, 3]\n"
     ]
    }
   ],
   "source": [
    "list1 = [1, 2, 3, 1, 2, 3]\n",
    "list1.remove(1)\n",
    "print(list1)"
   ]
  },
  {
   "cell_type": "markdown",
   "metadata": {
    "id": "YMYpNtPkFl_e"
   },
   "source": [
    "## Question67"
   ]
  },
  {
   "cell_type": "code",
   "execution_count": null,
   "metadata": {
    "colab": {
     "base_uri": "https://localhost:8080/"
    },
    "executionInfo": {
     "elapsed": 790723,
     "status": "ok",
     "timestamp": 1616138443881,
     "user": {
      "displayName": "Tautology Madebyai",
      "photoUrl": "https://lh3.googleusercontent.com/a-/AOh14GgIuxJTOXeU2g-OcdBfWS1NSCgofk20ST_TdkDm=s64",
      "userId": "06969950300190082095"
     },
     "user_tz": -420
    },
    "id": "ElZf8fbWFl_e",
    "outputId": "a09d8dde-0990-4bd2-cd66-90491caf552c"
   },
   "outputs": [
    {
     "name": "stdout",
     "output_type": "stream",
     "text": [
      "[2, 3, 2, 3]\n"
     ]
    }
   ],
   "source": [
    "list1 = [1, 2, 3, 1, 2, 3]\n",
    "list1.remove(1)\n",
    "list1.remove(1)\n",
    "print(list1)"
   ]
  },
  {
   "cell_type": "markdown",
   "metadata": {
    "id": "ysJm0nTfFl_e"
   },
   "source": [
    "## Question68"
   ]
  },
  {
   "cell_type": "code",
   "execution_count": null,
   "metadata": {
    "colab": {
     "base_uri": "https://localhost:8080/"
    },
    "executionInfo": {
     "elapsed": 790695,
     "status": "ok",
     "timestamp": 1616138443881,
     "user": {
      "displayName": "Tautology Madebyai",
      "photoUrl": "https://lh3.googleusercontent.com/a-/AOh14GgIuxJTOXeU2g-OcdBfWS1NSCgofk20ST_TdkDm=s64",
      "userId": "06969950300190082095"
     },
     "user_tz": -420
    },
    "id": "6Yp0Wb0AFl_f",
    "outputId": "ab2befd0-28bb-4f81-ee89-2f775b6a9e89"
   },
   "outputs": [
    {
     "name": "stdout",
     "output_type": "stream",
     "text": [
      "[]\n"
     ]
    }
   ],
   "source": [
    "list1 = [1, 2, 3, 1, 2, 3]\n",
    "list1.clear()\n",
    "print(list1)"
   ]
  },
  {
   "cell_type": "markdown",
   "metadata": {
    "id": "_7detGVhFl_f"
   },
   "source": [
    "## Question69"
   ]
  },
  {
   "cell_type": "code",
   "execution_count": null,
   "metadata": {
    "colab": {
     "base_uri": "https://localhost:8080/"
    },
    "executionInfo": {
     "elapsed": 790667,
     "status": "ok",
     "timestamp": 1616138443881,
     "user": {
      "displayName": "Tautology Madebyai",
      "photoUrl": "https://lh3.googleusercontent.com/a-/AOh14GgIuxJTOXeU2g-OcdBfWS1NSCgofk20ST_TdkDm=s64",
      "userId": "06969950300190082095"
     },
     "user_tz": -420
    },
    "id": "lTz1lAGrFl_f",
    "outputId": "1e485993-a34e-4602-9a83-9980250256c9"
   },
   "outputs": [
    {
     "name": "stdout",
     "output_type": "stream",
     "text": [
      "6\n"
     ]
    }
   ],
   "source": [
    "list1 = [1, 2, 3, 'a', 'b', 'c']\n",
    "print(len(list1))"
   ]
  },
  {
   "cell_type": "markdown",
   "metadata": {
    "id": "foyI2KFEFl_f"
   },
   "source": [
    "## Question70"
   ]
  },
  {
   "cell_type": "code",
   "execution_count": null,
   "metadata": {
    "colab": {
     "base_uri": "https://localhost:8080/"
    },
    "executionInfo": {
     "elapsed": 918600,
     "status": "ok",
     "timestamp": 1616138571842,
     "user": {
      "displayName": "Tautology Madebyai",
      "photoUrl": "https://lh3.googleusercontent.com/a-/AOh14GgIuxJTOXeU2g-OcdBfWS1NSCgofk20ST_TdkDm=s64",
      "userId": "06969950300190082095"
     },
     "user_tz": -420
    },
    "id": "FzApNf-_Fl_f",
    "outputId": "ed857a1a-dd68-4159-93d1-32bcacb3953b"
   },
   "outputs": [
    {
     "name": "stdout",
     "output_type": "stream",
     "text": [
      "Please insert numeric1: 4\n",
      "True\n"
     ]
    }
   ],
   "source": [
    "list1 = [1, 2, 3, 4, 5]\n",
    "numeric1 = int(input('Please insert numeric1: '))\n",
    "print(numeric1 in list1)"
   ]
  },
  {
   "cell_type": "markdown",
   "metadata": {
    "id": "k8aoyLesFl_f"
   },
   "source": [
    "# -------------------- Tuple --------------------"
   ]
  },
  {
   "cell_type": "markdown",
   "metadata": {
    "id": "y7HtUPlZFl_f"
   },
   "source": [
    "## Question71"
   ]
  },
  {
   "cell_type": "code",
   "execution_count": null,
   "metadata": {
    "colab": {
     "base_uri": "https://localhost:8080/"
    },
    "executionInfo": {
     "elapsed": 918573,
     "status": "ok",
     "timestamp": 1616138571843,
     "user": {
      "displayName": "Tautology Madebyai",
      "photoUrl": "https://lh3.googleusercontent.com/a-/AOh14GgIuxJTOXeU2g-OcdBfWS1NSCgofk20ST_TdkDm=s64",
      "userId": "06969950300190082095"
     },
     "user_tz": -420
    },
    "id": "S694ppZLFl_f",
    "outputId": "005ca71c-a09c-4578-8e39-124663d988f4"
   },
   "outputs": [
    {
     "name": "stdout",
     "output_type": "stream",
     "text": [
      "('America', 'Brazil', 'China', 'Dominican', 'Egypt')\n",
      "<class 'tuple'>\n"
     ]
    }
   ],
   "source": [
    "tuple1 = ('America', 'Brazil', 'China', 'Dominican', 'Egypt')\n",
    "print(tuple1)\n",
    "print(type(tuple1))"
   ]
  },
  {
   "cell_type": "markdown",
   "metadata": {
    "id": "gDA1YkHFFl_f"
   },
   "source": [
    "## Question72"
   ]
  },
  {
   "cell_type": "code",
   "execution_count": null,
   "metadata": {
    "colab": {
     "base_uri": "https://localhost:8080/"
    },
    "executionInfo": {
     "elapsed": 918545,
     "status": "ok",
     "timestamp": 1616138571843,
     "user": {
      "displayName": "Tautology Madebyai",
      "photoUrl": "https://lh3.googleusercontent.com/a-/AOh14GgIuxJTOXeU2g-OcdBfWS1NSCgofk20ST_TdkDm=s64",
      "userId": "06969950300190082095"
     },
     "user_tz": -420
    },
    "id": "qwDRorFrFl_f",
    "outputId": "9e8549ec-b28f-4c93-a7b9-e591502a995d"
   },
   "outputs": [
    {
     "name": "stdout",
     "output_type": "stream",
     "text": [
      "Brazil\n"
     ]
    }
   ],
   "source": [
    "tuple1 = ('America', 'Brazil', 'China', 'Dominican', 'Egypt')\n",
    "print(tuple1[1])"
   ]
  },
  {
   "cell_type": "markdown",
   "metadata": {
    "id": "wKLixWJzFl_f"
   },
   "source": [
    "## Question73"
   ]
  },
  {
   "cell_type": "code",
   "execution_count": null,
   "metadata": {
    "colab": {
     "base_uri": "https://localhost:8080/"
    },
    "executionInfo": {
     "elapsed": 918517,
     "status": "ok",
     "timestamp": 1616138571843,
     "user": {
      "displayName": "Tautology Madebyai",
      "photoUrl": "https://lh3.googleusercontent.com/a-/AOh14GgIuxJTOXeU2g-OcdBfWS1NSCgofk20ST_TdkDm=s64",
      "userId": "06969950300190082095"
     },
     "user_tz": -420
    },
    "id": "SErwIaYoFl_f",
    "outputId": "2c6842c0-9343-43e0-9d31-203a5436e2e8"
   },
   "outputs": [
    {
     "name": "stdout",
     "output_type": "stream",
     "text": [
      "Dominican\n"
     ]
    }
   ],
   "source": [
    "tuple1 = ('America', 'Brazil', 'China', 'Dominican', 'Egypt')\n",
    "print(tuple1[-2])"
   ]
  },
  {
   "cell_type": "markdown",
   "metadata": {
    "id": "nM3ghgIGFl_g"
   },
   "source": [
    "## Question74"
   ]
  },
  {
   "cell_type": "markdown",
   "metadata": {
    "id": "phMlWzedFl_g"
   },
   "source": [
    "### 74.1 solution"
   ]
  },
  {
   "cell_type": "code",
   "execution_count": null,
   "metadata": {
    "colab": {
     "base_uri": "https://localhost:8080/"
    },
    "executionInfo": {
     "elapsed": 918489,
     "status": "ok",
     "timestamp": 1616138571843,
     "user": {
      "displayName": "Tautology Madebyai",
      "photoUrl": "https://lh3.googleusercontent.com/a-/AOh14GgIuxJTOXeU2g-OcdBfWS1NSCgofk20ST_TdkDm=s64",
      "userId": "06969950300190082095"
     },
     "user_tz": -420
    },
    "id": "mjGoKqqLFl_g",
    "outputId": "0e30ace5-8a21-4a4d-8ec7-f0312345a891",
    "scrolled": true
   },
   "outputs": [
    {
     "name": "stdout",
     "output_type": "stream",
     "text": [
      "China\n"
     ]
    }
   ],
   "source": [
    "tuple1 = ('America', 'Brazil', 'China', 'Dominican', 'Egypt')\n",
    "print(tuple1[2])"
   ]
  },
  {
   "cell_type": "markdown",
   "metadata": {
    "id": "LdbJ_yqyFl_g"
   },
   "source": [
    "### 74.2 solution"
   ]
  },
  {
   "cell_type": "code",
   "execution_count": null,
   "metadata": {
    "colab": {
     "base_uri": "https://localhost:8080/"
    },
    "executionInfo": {
     "elapsed": 918461,
     "status": "ok",
     "timestamp": 1616138571843,
     "user": {
      "displayName": "Tautology Madebyai",
      "photoUrl": "https://lh3.googleusercontent.com/a-/AOh14GgIuxJTOXeU2g-OcdBfWS1NSCgofk20ST_TdkDm=s64",
      "userId": "06969950300190082095"
     },
     "user_tz": -420
    },
    "id": "eAOPcJUcFl_g",
    "outputId": "ae8f51b6-8369-4b2a-fda5-1e4bde4f13bf"
   },
   "outputs": [
    {
     "name": "stdout",
     "output_type": "stream",
     "text": [
      "China\n"
     ]
    }
   ],
   "source": [
    "tuple1 = ('America', 'Brazil', 'China', 'Dominican', 'Egypt')\n",
    "print(tuple1[-3])"
   ]
  },
  {
   "cell_type": "markdown",
   "metadata": {
    "id": "UCy78GTtFl_g"
   },
   "source": [
    "## Question75"
   ]
  },
  {
   "cell_type": "markdown",
   "metadata": {
    "id": "BJRu-8hZFl_g"
   },
   "source": [
    "### 75.1 solution"
   ]
  },
  {
   "cell_type": "code",
   "execution_count": null,
   "metadata": {
    "colab": {
     "base_uri": "https://localhost:8080/"
    },
    "executionInfo": {
     "elapsed": 918433,
     "status": "ok",
     "timestamp": 1616138571843,
     "user": {
      "displayName": "Tautology Madebyai",
      "photoUrl": "https://lh3.googleusercontent.com/a-/AOh14GgIuxJTOXeU2g-OcdBfWS1NSCgofk20ST_TdkDm=s64",
      "userId": "06969950300190082095"
     },
     "user_tz": -420
    },
    "id": "u-0vwFWwFl_g",
    "outputId": "75ec3eca-e3c9-4f8e-9d98-949d1681f0d3",
    "scrolled": true
   },
   "outputs": [
    {
     "name": "stdout",
     "output_type": "stream",
     "text": [
      "Egypt\n"
     ]
    }
   ],
   "source": [
    "tuple1 = ('America', 'Brazil', 'China', 'Dominican', 'Egypt')\n",
    "print(tuple1[-1])"
   ]
  },
  {
   "cell_type": "markdown",
   "metadata": {
    "id": "dKI0byq5Fl_g"
   },
   "source": [
    "### 75.2 solution"
   ]
  },
  {
   "cell_type": "code",
   "execution_count": null,
   "metadata": {
    "colab": {
     "base_uri": "https://localhost:8080/"
    },
    "executionInfo": {
     "elapsed": 918405,
     "status": "ok",
     "timestamp": 1616138571843,
     "user": {
      "displayName": "Tautology Madebyai",
      "photoUrl": "https://lh3.googleusercontent.com/a-/AOh14GgIuxJTOXeU2g-OcdBfWS1NSCgofk20ST_TdkDm=s64",
      "userId": "06969950300190082095"
     },
     "user_tz": -420
    },
    "id": "FEbbhVQ7Fl_g",
    "outputId": "1aa18b1e-4307-41a3-84c3-34d652af1fe6"
   },
   "outputs": [
    {
     "name": "stdout",
     "output_type": "stream",
     "text": [
      "Egypt\n"
     ]
    }
   ],
   "source": [
    "tuple1 = ('America', 'Brazil', 'China', 'Dominican', 'Egypt')\n",
    "print(tuple1[4])"
   ]
  },
  {
   "cell_type": "markdown",
   "metadata": {
    "id": "RtG0mBmzFl_g"
   },
   "source": [
    "## Question76"
   ]
  },
  {
   "cell_type": "code",
   "execution_count": null,
   "metadata": {
    "colab": {
     "base_uri": "https://localhost:8080/"
    },
    "executionInfo": {
     "elapsed": 918377,
     "status": "ok",
     "timestamp": 1616138571843,
     "user": {
      "displayName": "Tautology Madebyai",
      "photoUrl": "https://lh3.googleusercontent.com/a-/AOh14GgIuxJTOXeU2g-OcdBfWS1NSCgofk20ST_TdkDm=s64",
      "userId": "06969950300190082095"
     },
     "user_tz": -420
    },
    "id": "wnItFC5bFl_g",
    "outputId": "1020e63a-851e-49db-eefa-edeae562118d"
   },
   "outputs": [
    {
     "name": "stdout",
     "output_type": "stream",
     "text": [
      "('two', 'three', 1)\n"
     ]
    }
   ],
   "source": [
    "tuple2 = ('one', 'two', 'three', 1, 2, 3)\n",
    "print(tuple2[1:4])"
   ]
  },
  {
   "cell_type": "markdown",
   "metadata": {
    "id": "qYDZxUXUFl_g"
   },
   "source": [
    "## Question77"
   ]
  },
  {
   "cell_type": "code",
   "execution_count": null,
   "metadata": {
    "colab": {
     "base_uri": "https://localhost:8080/"
    },
    "executionInfo": {
     "elapsed": 918349,
     "status": "ok",
     "timestamp": 1616138571844,
     "user": {
      "displayName": "Tautology Madebyai",
      "photoUrl": "https://lh3.googleusercontent.com/a-/AOh14GgIuxJTOXeU2g-OcdBfWS1NSCgofk20ST_TdkDm=s64",
      "userId": "06969950300190082095"
     },
     "user_tz": -420
    },
    "id": "f01SiXADFl_g",
    "outputId": "f6255622-cf60-495a-ef17-115ec2787461"
   },
   "outputs": [
    {
     "name": "stdout",
     "output_type": "stream",
     "text": [
      "('three', 1, 2)\n"
     ]
    }
   ],
   "source": [
    "tuple2 = ('one', 'two', 'three', 1, 2, 3)\n",
    "print(tuple2[2:-1])"
   ]
  },
  {
   "cell_type": "markdown",
   "metadata": {
    "id": "sgxrG6KaFl_g"
   },
   "source": [
    "## Question78"
   ]
  },
  {
   "cell_type": "markdown",
   "metadata": {
    "id": "VHBuxg1ZFl_h"
   },
   "source": [
    "### 78.1 solution"
   ]
  },
  {
   "cell_type": "code",
   "execution_count": null,
   "metadata": {
    "colab": {
     "base_uri": "https://localhost:8080/"
    },
    "executionInfo": {
     "elapsed": 918322,
     "status": "ok",
     "timestamp": 1616138571844,
     "user": {
      "displayName": "Tautology Madebyai",
      "photoUrl": "https://lh3.googleusercontent.com/a-/AOh14GgIuxJTOXeU2g-OcdBfWS1NSCgofk20ST_TdkDm=s64",
      "userId": "06969950300190082095"
     },
     "user_tz": -420
    },
    "id": "HAY_mGbQFl_h",
    "outputId": "ab6cf4e9-fb02-4704-b97b-a03a2dc99162"
   },
   "outputs": [
    {
     "name": "stdout",
     "output_type": "stream",
     "text": [
      "('three', 1)\n"
     ]
    }
   ],
   "source": [
    "tuple2 = ('one', 'two', 'three', 1, 2, 3)\n",
    "print(tuple2[2:4])"
   ]
  },
  {
   "cell_type": "markdown",
   "metadata": {
    "id": "XlrT0PiMFl_h"
   },
   "source": [
    "### 78.2 solution"
   ]
  },
  {
   "cell_type": "code",
   "execution_count": null,
   "metadata": {
    "colab": {
     "base_uri": "https://localhost:8080/"
    },
    "executionInfo": {
     "elapsed": 918293,
     "status": "ok",
     "timestamp": 1616138571844,
     "user": {
      "displayName": "Tautology Madebyai",
      "photoUrl": "https://lh3.googleusercontent.com/a-/AOh14GgIuxJTOXeU2g-OcdBfWS1NSCgofk20ST_TdkDm=s64",
      "userId": "06969950300190082095"
     },
     "user_tz": -420
    },
    "id": "xP1F6DvgFl_h",
    "outputId": "ae3a410a-5910-48db-919e-1b062376a906"
   },
   "outputs": [
    {
     "name": "stdout",
     "output_type": "stream",
     "text": [
      "('three', 1)\n"
     ]
    }
   ],
   "source": [
    "tuple2 = ('one', 'two', 'three', 1, 2, 3)\n",
    "print(tuple2[2:-2])"
   ]
  },
  {
   "cell_type": "markdown",
   "metadata": {
    "id": "x1kATUWpFl_h"
   },
   "source": [
    "### 78.3 solution"
   ]
  },
  {
   "cell_type": "code",
   "execution_count": null,
   "metadata": {
    "colab": {
     "base_uri": "https://localhost:8080/"
    },
    "executionInfo": {
     "elapsed": 918265,
     "status": "ok",
     "timestamp": 1616138571844,
     "user": {
      "displayName": "Tautology Madebyai",
      "photoUrl": "https://lh3.googleusercontent.com/a-/AOh14GgIuxJTOXeU2g-OcdBfWS1NSCgofk20ST_TdkDm=s64",
      "userId": "06969950300190082095"
     },
     "user_tz": -420
    },
    "id": "4hnbQoc4Fl_h",
    "outputId": "e4b0d091-bf94-4c28-f819-37c0897bc993"
   },
   "outputs": [
    {
     "name": "stdout",
     "output_type": "stream",
     "text": [
      "('three', 1)\n"
     ]
    }
   ],
   "source": [
    "tuple2 = ('one', 'two', 'three', 1, 2, 3)\n",
    "print(tuple2[-4:4])"
   ]
  },
  {
   "cell_type": "markdown",
   "metadata": {
    "id": "zUfYw6SeFl_h"
   },
   "source": [
    "### 78.4 solution"
   ]
  },
  {
   "cell_type": "code",
   "execution_count": null,
   "metadata": {
    "colab": {
     "base_uri": "https://localhost:8080/"
    },
    "executionInfo": {
     "elapsed": 918237,
     "status": "ok",
     "timestamp": 1616138571844,
     "user": {
      "displayName": "Tautology Madebyai",
      "photoUrl": "https://lh3.googleusercontent.com/a-/AOh14GgIuxJTOXeU2g-OcdBfWS1NSCgofk20ST_TdkDm=s64",
      "userId": "06969950300190082095"
     },
     "user_tz": -420
    },
    "id": "0ikJUBWEFl_h",
    "outputId": "a39b01df-bdf7-4d2b-c830-e76d6d48a5cb"
   },
   "outputs": [
    {
     "name": "stdout",
     "output_type": "stream",
     "text": [
      "('three', 1)\n"
     ]
    }
   ],
   "source": [
    "tuple2 = ('one', 'two', 'three', 1, 2, 3)\n",
    "print(tuple2[-4:-2])"
   ]
  },
  {
   "cell_type": "markdown",
   "metadata": {
    "id": "_-Y_NC0nFl_h"
   },
   "source": [
    "## Question79"
   ]
  },
  {
   "cell_type": "markdown",
   "metadata": {
    "id": "nP1FVCDWFl_h"
   },
   "source": [
    "### 79.1 solution"
   ]
  },
  {
   "cell_type": "code",
   "execution_count": null,
   "metadata": {
    "colab": {
     "base_uri": "https://localhost:8080/"
    },
    "executionInfo": {
     "elapsed": 918209,
     "status": "ok",
     "timestamp": 1616138571844,
     "user": {
      "displayName": "Tautology Madebyai",
      "photoUrl": "https://lh3.googleusercontent.com/a-/AOh14GgIuxJTOXeU2g-OcdBfWS1NSCgofk20ST_TdkDm=s64",
      "userId": "06969950300190082095"
     },
     "user_tz": -420
    },
    "id": "cz4-zUC4Fl_h",
    "outputId": "ff817d2c-766a-4c31-a7d5-08c7bc63624d"
   },
   "outputs": [
    {
     "name": "stdout",
     "output_type": "stream",
     "text": [
      "('one', 'two', 'three')\n"
     ]
    }
   ],
   "source": [
    "tuple2 = ('one', 'two', 'three', 1, 2, 3)\n",
    "print(tuple2[:3])"
   ]
  },
  {
   "cell_type": "markdown",
   "metadata": {
    "id": "3pSpZ5kgFl_h"
   },
   "source": [
    "### 79.2 solution"
   ]
  },
  {
   "cell_type": "code",
   "execution_count": null,
   "metadata": {
    "colab": {
     "base_uri": "https://localhost:8080/"
    },
    "executionInfo": {
     "elapsed": 918181,
     "status": "ok",
     "timestamp": 1616138571844,
     "user": {
      "displayName": "Tautology Madebyai",
      "photoUrl": "https://lh3.googleusercontent.com/a-/AOh14GgIuxJTOXeU2g-OcdBfWS1NSCgofk20ST_TdkDm=s64",
      "userId": "06969950300190082095"
     },
     "user_tz": -420
    },
    "id": "namjWY_RFl_h",
    "outputId": "19d39669-f41c-47a2-bfe2-8f5eb1c0a7e1",
    "scrolled": true
   },
   "outputs": [
    {
     "name": "stdout",
     "output_type": "stream",
     "text": [
      "('one', 'two', 'three')\n"
     ]
    }
   ],
   "source": [
    "tuple2 = ('one', 'two', 'three', 1, 2, 3)\n",
    "print(tuple2[:-3])"
   ]
  },
  {
   "cell_type": "markdown",
   "metadata": {
    "id": "3xyrNShyFl_h"
   },
   "source": [
    "## Question80"
   ]
  },
  {
   "cell_type": "markdown",
   "metadata": {
    "id": "wNQuepvFFl_h"
   },
   "source": [
    "### 80.1 solution"
   ]
  },
  {
   "cell_type": "code",
   "execution_count": null,
   "metadata": {
    "colab": {
     "base_uri": "https://localhost:8080/"
    },
    "executionInfo": {
     "elapsed": 918153,
     "status": "ok",
     "timestamp": 1616138571844,
     "user": {
      "displayName": "Tautology Madebyai",
      "photoUrl": "https://lh3.googleusercontent.com/a-/AOh14GgIuxJTOXeU2g-OcdBfWS1NSCgofk20ST_TdkDm=s64",
      "userId": "06969950300190082095"
     },
     "user_tz": -420
    },
    "id": "TjB1-v0xFl_h",
    "outputId": "4643ffb9-882d-4c37-8952-b3562a8a0dd9"
   },
   "outputs": [
    {
     "name": "stdout",
     "output_type": "stream",
     "text": [
      "(1, 2, 3)\n"
     ]
    }
   ],
   "source": [
    "tuple2 = ('one', 'two', 'three', 1, 2, 3)\n",
    "print(tuple2[3:])"
   ]
  },
  {
   "cell_type": "markdown",
   "metadata": {
    "id": "f5p8JsqSFl_i"
   },
   "source": [
    "### 80.2 solution"
   ]
  },
  {
   "cell_type": "code",
   "execution_count": null,
   "metadata": {
    "colab": {
     "base_uri": "https://localhost:8080/"
    },
    "executionInfo": {
     "elapsed": 918126,
     "status": "ok",
     "timestamp": 1616138571845,
     "user": {
      "displayName": "Tautology Madebyai",
      "photoUrl": "https://lh3.googleusercontent.com/a-/AOh14GgIuxJTOXeU2g-OcdBfWS1NSCgofk20ST_TdkDm=s64",
      "userId": "06969950300190082095"
     },
     "user_tz": -420
    },
    "id": "1XKl8-HFFl_i",
    "outputId": "f5768520-80fa-467e-b7bf-d92aebe42271",
    "scrolled": true
   },
   "outputs": [
    {
     "name": "stdout",
     "output_type": "stream",
     "text": [
      "(1, 2, 3)\n"
     ]
    }
   ],
   "source": [
    "tuple2 = ('one', 'two', 'three', 1, 2, 3)\n",
    "print(tuple2[-3:])"
   ]
  },
  {
   "cell_type": "markdown",
   "metadata": {
    "id": "q62RUAPwFl_i"
   },
   "source": [
    "## Question81"
   ]
  },
  {
   "cell_type": "code",
   "execution_count": null,
   "metadata": {
    "colab": {
     "base_uri": "https://localhost:8080/"
    },
    "executionInfo": {
     "elapsed": 918098,
     "status": "ok",
     "timestamp": 1616138571845,
     "user": {
      "displayName": "Tautology Madebyai",
      "photoUrl": "https://lh3.googleusercontent.com/a-/AOh14GgIuxJTOXeU2g-OcdBfWS1NSCgofk20ST_TdkDm=s64",
      "userId": "06969950300190082095"
     },
     "user_tz": -420
    },
    "id": "AhtFdrgZFl_i",
    "outputId": "ffe2ad23-69a2-4f7c-8c0e-766c778c45d8"
   },
   "outputs": [
    {
     "name": "stdout",
     "output_type": "stream",
     "text": [
      "5\n"
     ]
    }
   ],
   "source": [
    "tuple3 = ('one', 'two', 'three', 'four', 'five')\n",
    "print(len(tuple3))"
   ]
  },
  {
   "cell_type": "markdown",
   "metadata": {
    "id": "bh4ZgtlCFl_i"
   },
   "source": [
    "## Question82"
   ]
  },
  {
   "cell_type": "code",
   "execution_count": null,
   "metadata": {
    "colab": {
     "base_uri": "https://localhost:8080/"
    },
    "executionInfo": {
     "elapsed": 1015174,
     "status": "ok",
     "timestamp": 1616138668949,
     "user": {
      "displayName": "Tautology Madebyai",
      "photoUrl": "https://lh3.googleusercontent.com/a-/AOh14GgIuxJTOXeU2g-OcdBfWS1NSCgofk20ST_TdkDm=s64",
      "userId": "06969950300190082095"
     },
     "user_tz": -420
    },
    "id": "DtqJgN7PFl_i",
    "outputId": "5f7011a1-a28f-4b39-c685-95dc0d20c9dc"
   },
   "outputs": [
    {
     "name": "stdout",
     "output_type": "stream",
     "text": [
      "Please insert str1: three\n",
      "True\n"
     ]
    }
   ],
   "source": [
    "tuple3 = ('one', 'two', 'three', 'four', 'five')\n",
    "str1 = input('Please insert str1: ')\n",
    "print(str1 in tuple3)"
   ]
  },
  {
   "cell_type": "markdown",
   "metadata": {
    "id": "oBWXwpMeFl_i"
   },
   "source": [
    "# -------------------- Dictionary --------------------"
   ]
  },
  {
   "cell_type": "markdown",
   "metadata": {
    "id": "iZrkNQFdFl_i"
   },
   "source": [
    "## Question83"
   ]
  },
  {
   "cell_type": "code",
   "execution_count": null,
   "metadata": {
    "colab": {
     "base_uri": "https://localhost:8080/"
    },
    "executionInfo": {
     "elapsed": 1015147,
     "status": "ok",
     "timestamp": 1616138668950,
     "user": {
      "displayName": "Tautology Madebyai",
      "photoUrl": "https://lh3.googleusercontent.com/a-/AOh14GgIuxJTOXeU2g-OcdBfWS1NSCgofk20ST_TdkDm=s64",
      "userId": "06969950300190082095"
     },
     "user_tz": -420
    },
    "id": "dqVYZvaCFl_i",
    "outputId": "8620ba45-537b-4eca-aa04-2e1f57f6dc6e"
   },
   "outputs": [
    {
     "name": "stdout",
     "output_type": "stream",
     "text": [
      "{'first_name': 'John', 'last_name': 'Doe'}\n",
      "<class 'dict'>\n"
     ]
    }
   ],
   "source": [
    "dict1 = {'first_name' : 'John', 'last_name' : 'Doe'}\n",
    "print(dict1)\n",
    "print(type(dict1))"
   ]
  },
  {
   "cell_type": "markdown",
   "metadata": {
    "id": "ill1HfoIFl_i"
   },
   "source": [
    "## Question84"
   ]
  },
  {
   "cell_type": "code",
   "execution_count": null,
   "metadata": {
    "colab": {
     "base_uri": "https://localhost:8080/"
    },
    "executionInfo": {
     "elapsed": 1015119,
     "status": "ok",
     "timestamp": 1616138668950,
     "user": {
      "displayName": "Tautology Madebyai",
      "photoUrl": "https://lh3.googleusercontent.com/a-/AOh14GgIuxJTOXeU2g-OcdBfWS1NSCgofk20ST_TdkDm=s64",
      "userId": "06969950300190082095"
     },
     "user_tz": -420
    },
    "id": "VN6LiGUkFl_i",
    "outputId": "4564374e-18ae-4f19-9487-10147d8d92bf"
   },
   "outputs": [
    {
     "name": "stdout",
     "output_type": "stream",
     "text": [
      "John\n"
     ]
    }
   ],
   "source": [
    "dict1 = {'first_name' : 'John', 'last_name' : 'Doe'}\n",
    "print(dict1['first_name'])"
   ]
  },
  {
   "cell_type": "markdown",
   "metadata": {
    "id": "FsE9Wuc3Fl_i"
   },
   "source": [
    "## Question85"
   ]
  },
  {
   "cell_type": "code",
   "execution_count": null,
   "metadata": {
    "colab": {
     "base_uri": "https://localhost:8080/"
    },
    "executionInfo": {
     "elapsed": 1015090,
     "status": "ok",
     "timestamp": 1616138668950,
     "user": {
      "displayName": "Tautology Madebyai",
      "photoUrl": "https://lh3.googleusercontent.com/a-/AOh14GgIuxJTOXeU2g-OcdBfWS1NSCgofk20ST_TdkDm=s64",
      "userId": "06969950300190082095"
     },
     "user_tz": -420
    },
    "id": "ICAotqSwFl_i",
    "outputId": "efc22d75-c7c8-48d5-a08c-43baca001704"
   },
   "outputs": [
    {
     "name": "stdout",
     "output_type": "stream",
     "text": [
      "Doe\n"
     ]
    }
   ],
   "source": [
    "dict1 = {'first_name' : 'John', 'last_name' : 'Doe'}\n",
    "print(dict1['last_name'])"
   ]
  },
  {
   "cell_type": "markdown",
   "metadata": {
    "id": "44LJ7AjJFl_i"
   },
   "source": [
    "## Question86"
   ]
  },
  {
   "cell_type": "code",
   "execution_count": null,
   "metadata": {
    "colab": {
     "base_uri": "https://localhost:8080/"
    },
    "executionInfo": {
     "elapsed": 1015062,
     "status": "ok",
     "timestamp": 1616138668950,
     "user": {
      "displayName": "Tautology Madebyai",
      "photoUrl": "https://lh3.googleusercontent.com/a-/AOh14GgIuxJTOXeU2g-OcdBfWS1NSCgofk20ST_TdkDm=s64",
      "userId": "06969950300190082095"
     },
     "user_tz": -420
    },
    "id": "UFDzGkSqFl_i",
    "outputId": "bfa8bd5d-ee4c-4322-ebf2-4cfb14d8bb1c"
   },
   "outputs": [
    {
     "name": "stdout",
     "output_type": "stream",
     "text": [
      "dict_keys(['first_name', 'last_name'])\n"
     ]
    }
   ],
   "source": [
    "dict1 = {'first_name' : 'John', 'last_name' : 'Doe'}\n",
    "print(dict1.keys())"
   ]
  },
  {
   "cell_type": "markdown",
   "metadata": {
    "id": "YENdmWhtFl_i"
   },
   "source": [
    "## Question87"
   ]
  },
  {
   "cell_type": "code",
   "execution_count": null,
   "metadata": {
    "colab": {
     "base_uri": "https://localhost:8080/"
    },
    "executionInfo": {
     "elapsed": 1015034,
     "status": "ok",
     "timestamp": 1616138668950,
     "user": {
      "displayName": "Tautology Madebyai",
      "photoUrl": "https://lh3.googleusercontent.com/a-/AOh14GgIuxJTOXeU2g-OcdBfWS1NSCgofk20ST_TdkDm=s64",
      "userId": "06969950300190082095"
     },
     "user_tz": -420
    },
    "id": "bgHFdapAFl_i",
    "outputId": "ebaf67ad-95d0-4bec-e118-17fe5dd0fff7"
   },
   "outputs": [
    {
     "name": "stdout",
     "output_type": "stream",
     "text": [
      "dict_values(['John', 'Doe'])\n"
     ]
    }
   ],
   "source": [
    "dict1 = {'first_name' : 'John', 'last_name' : 'Doe'}\n",
    "print(dict1.values())"
   ]
  },
  {
   "cell_type": "markdown",
   "metadata": {
    "id": "GdWS3B92Fl_j"
   },
   "source": [
    "## Question88"
   ]
  },
  {
   "cell_type": "code",
   "execution_count": null,
   "metadata": {
    "colab": {
     "base_uri": "https://localhost:8080/"
    },
    "executionInfo": {
     "elapsed": 1015006,
     "status": "ok",
     "timestamp": 1616138668950,
     "user": {
      "displayName": "Tautology Madebyai",
      "photoUrl": "https://lh3.googleusercontent.com/a-/AOh14GgIuxJTOXeU2g-OcdBfWS1NSCgofk20ST_TdkDm=s64",
      "userId": "06969950300190082095"
     },
     "user_tz": -420
    },
    "id": "sGJJ1AzLFl_j",
    "outputId": "e11f6403-3775-4fc3-b4c8-c10d6b56bec4"
   },
   "outputs": [
    {
     "name": "stdout",
     "output_type": "stream",
     "text": [
      "{'first_name': 'Jane', 'last_name': 'Doe'}\n"
     ]
    }
   ],
   "source": [
    "dict1 = {'first_name' : 'John', 'last_name' : 'Doe'}\n",
    "dict1['first_name'] = 'Jane'\n",
    "print(dict1)"
   ]
  },
  {
   "cell_type": "markdown",
   "metadata": {
    "id": "jxJCa9piFl_j"
   },
   "source": [
    "## Question89"
   ]
  },
  {
   "cell_type": "code",
   "execution_count": null,
   "metadata": {
    "colab": {
     "base_uri": "https://localhost:8080/"
    },
    "executionInfo": {
     "elapsed": 1014978,
     "status": "ok",
     "timestamp": 1616138668950,
     "user": {
      "displayName": "Tautology Madebyai",
      "photoUrl": "https://lh3.googleusercontent.com/a-/AOh14GgIuxJTOXeU2g-OcdBfWS1NSCgofk20ST_TdkDm=s64",
      "userId": "06969950300190082095"
     },
     "user_tz": -420
    },
    "id": "QKvQZ-GFFl_j",
    "outputId": "45fca378-a60a-408f-9b60-65ebf4138007"
   },
   "outputs": [
    {
     "name": "stdout",
     "output_type": "stream",
     "text": [
      "{'first_name': 'John', 'last_name': 'Doe', 'age': 32}\n"
     ]
    }
   ],
   "source": [
    "dict1 = {'first_name' : 'John', 'last_name' : 'Doe'}\n",
    "dict1['age'] = 32\n",
    "print(dict1)"
   ]
  },
  {
   "cell_type": "markdown",
   "metadata": {
    "id": "9waHd3e7Fl_j"
   },
   "source": [
    "## Question90"
   ]
  },
  {
   "cell_type": "code",
   "execution_count": null,
   "metadata": {
    "colab": {
     "base_uri": "https://localhost:8080/"
    },
    "executionInfo": {
     "elapsed": 1014951,
     "status": "ok",
     "timestamp": 1616138668951,
     "user": {
      "displayName": "Tautology Madebyai",
      "photoUrl": "https://lh3.googleusercontent.com/a-/AOh14GgIuxJTOXeU2g-OcdBfWS1NSCgofk20ST_TdkDm=s64",
      "userId": "06969950300190082095"
     },
     "user_tz": -420
    },
    "id": "x7WhRJSZFl_j",
    "outputId": "2eb09639-fa29-471a-ed8e-fa8edc065dfd"
   },
   "outputs": [
    {
     "name": "stdout",
     "output_type": "stream",
     "text": [
      "{'first_name': 'John', 'last_name': 'Doe', 'age': 32, 'hobby': ['coding', 'studying']}\n"
     ]
    }
   ],
   "source": [
    "dict1 = {'first_name' : 'John', 'last_name' : 'Doe'}\n",
    "dict1.update({'age' : 32, 'hobby' : ['coding', 'studying']})\n",
    "print(dict1)"
   ]
  },
  {
   "cell_type": "markdown",
   "metadata": {
    "id": "5N4dWj13Fl_j"
   },
   "source": [
    "## Question91"
   ]
  },
  {
   "cell_type": "code",
   "execution_count": null,
   "metadata": {
    "colab": {
     "base_uri": "https://localhost:8080/"
    },
    "executionInfo": {
     "elapsed": 1327694,
     "status": "ok",
     "timestamp": 1616138981722,
     "user": {
      "displayName": "Tautology Madebyai",
      "photoUrl": "https://lh3.googleusercontent.com/a-/AOh14GgIuxJTOXeU2g-OcdBfWS1NSCgofk20ST_TdkDm=s64",
      "userId": "06969950300190082095"
     },
     "user_tz": -420
    },
    "id": "5_6_h-bUFl_j",
    "outputId": "8641b4f7-8955-4190-c8f0-877464bfc567"
   },
   "outputs": [
    {
     "name": "stdout",
     "output_type": "stream",
     "text": [
      "Please insert str1: a\n",
      "Please insert str2: A\n",
      "{'a': 'A'}\n"
     ]
    }
   ],
   "source": [
    "dict1 = {}\n",
    "str1 = input('Please insert str1: ')\n",
    "str2 = input('Please insert str2: ')\n",
    "dict1[str1] = str2\n",
    "print(dict1)"
   ]
  },
  {
   "cell_type": "markdown",
   "metadata": {
    "id": "MyUzljY1Fl_j"
   },
   "source": [
    "## Question92"
   ]
  },
  {
   "cell_type": "code",
   "execution_count": null,
   "metadata": {
    "colab": {
     "base_uri": "https://localhost:8080/"
    },
    "executionInfo": {
     "elapsed": 1327667,
     "status": "ok",
     "timestamp": 1616138981723,
     "user": {
      "displayName": "Tautology Madebyai",
      "photoUrl": "https://lh3.googleusercontent.com/a-/AOh14GgIuxJTOXeU2g-OcdBfWS1NSCgofk20ST_TdkDm=s64",
      "userId": "06969950300190082095"
     },
     "user_tz": -420
    },
    "id": "DAoat-pWFl_j",
    "outputId": "32d9d8a8-c347-4a00-c70a-8b5c8f37f25c"
   },
   "outputs": [
    {
     "name": "stdout",
     "output_type": "stream",
     "text": [
      "{'first_name': 'John', 'last_name': 'Doe'}\n"
     ]
    }
   ],
   "source": [
    "dict1 = {'first_name' : 'John', 'last_name' : 'Doe', 'age' : 32}\n",
    "del dict1['age']\n",
    "print(dict1)"
   ]
  },
  {
   "cell_type": "markdown",
   "metadata": {
    "id": "Q5VjS7i6Fl_j"
   },
   "source": [
    "## Question93"
   ]
  },
  {
   "cell_type": "code",
   "execution_count": null,
   "metadata": {
    "colab": {
     "base_uri": "https://localhost:8080/"
    },
    "executionInfo": {
     "elapsed": 1327639,
     "status": "ok",
     "timestamp": 1616138981723,
     "user": {
      "displayName": "Tautology Madebyai",
      "photoUrl": "https://lh3.googleusercontent.com/a-/AOh14GgIuxJTOXeU2g-OcdBfWS1NSCgofk20ST_TdkDm=s64",
      "userId": "06969950300190082095"
     },
     "user_tz": -420
    },
    "id": "0kAVCQigFl_j",
    "outputId": "b53bc887-2fa6-4c36-f3e3-934934521cdd"
   },
   "outputs": [
    {
     "name": "stdout",
     "output_type": "stream",
     "text": [
      "{}\n"
     ]
    }
   ],
   "source": [
    "dict1 = {'first_name' : 'John', 'last_name' : 'Doe', 'age' : 32}\n",
    "dict1.clear()\n",
    "print(dict1)"
   ]
  },
  {
   "cell_type": "markdown",
   "metadata": {
    "id": "m16HBZP0Fl_j"
   },
   "source": [
    "## Question94"
   ]
  },
  {
   "cell_type": "markdown",
   "metadata": {
    "id": "ZVVXImJdFl_j"
   },
   "source": [
    "### 94.1 solution"
   ]
  },
  {
   "cell_type": "code",
   "execution_count": null,
   "metadata": {
    "colab": {
     "base_uri": "https://localhost:8080/"
    },
    "executionInfo": {
     "elapsed": 1327611,
     "status": "ok",
     "timestamp": 1616138981723,
     "user": {
      "displayName": "Tautology Madebyai",
      "photoUrl": "https://lh3.googleusercontent.com/a-/AOh14GgIuxJTOXeU2g-OcdBfWS1NSCgofk20ST_TdkDm=s64",
      "userId": "06969950300190082095"
     },
     "user_tz": -420
    },
    "id": "_DazwNl4Fl_j",
    "outputId": "591697d8-d3c7-492b-edbe-b5a66276471f"
   },
   "outputs": [
    {
     "name": "stdout",
     "output_type": "stream",
     "text": [
      "3\n"
     ]
    }
   ],
   "source": [
    "dict1 = {'first_name' : 'John', 'last_name' : 'Doe', 'age' : 32}\n",
    "print(len(dict1))"
   ]
  },
  {
   "cell_type": "markdown",
   "metadata": {
    "id": "MBLusJeXFl_k"
   },
   "source": [
    "### 94.2 solution"
   ]
  },
  {
   "cell_type": "code",
   "execution_count": null,
   "metadata": {
    "colab": {
     "base_uri": "https://localhost:8080/"
    },
    "executionInfo": {
     "elapsed": 1327583,
     "status": "ok",
     "timestamp": 1616138981723,
     "user": {
      "displayName": "Tautology Madebyai",
      "photoUrl": "https://lh3.googleusercontent.com/a-/AOh14GgIuxJTOXeU2g-OcdBfWS1NSCgofk20ST_TdkDm=s64",
      "userId": "06969950300190082095"
     },
     "user_tz": -420
    },
    "id": "yUDSGWMkFl_k",
    "outputId": "f6410b85-c13b-4e9a-e45a-cf6b515db029"
   },
   "outputs": [
    {
     "name": "stdout",
     "output_type": "stream",
     "text": [
      "3\n"
     ]
    }
   ],
   "source": [
    "dict1 = {'first_name' : 'John', 'last_name' : 'Doe', 'age' : 32}\n",
    "print(len(dict1.keys()))"
   ]
  },
  {
   "cell_type": "markdown",
   "metadata": {
    "id": "ZgavYcbrFl_k"
   },
   "source": [
    "## Question95"
   ]
  },
  {
   "cell_type": "markdown",
   "metadata": {
    "id": "YcTLjynQFl_k"
   },
   "source": [
    "### 95.1 solution"
   ]
  },
  {
   "cell_type": "code",
   "execution_count": null,
   "metadata": {
    "colab": {
     "base_uri": "https://localhost:8080/"
    },
    "executionInfo": {
     "elapsed": 1397596,
     "status": "ok",
     "timestamp": 1616139051763,
     "user": {
      "displayName": "Tautology Madebyai",
      "photoUrl": "https://lh3.googleusercontent.com/a-/AOh14GgIuxJTOXeU2g-OcdBfWS1NSCgofk20ST_TdkDm=s64",
      "userId": "06969950300190082095"
     },
     "user_tz": -420
    },
    "id": "9DSvqqdgFl_k",
    "outputId": "6ceb77ef-f756-4843-cf02-0d1f6181df1b"
   },
   "outputs": [
    {
     "name": "stdout",
     "output_type": "stream",
     "text": [
      "Please insert str1: first_name\n",
      "True\n"
     ]
    }
   ],
   "source": [
    "dict1 = {'first_name' : 'John', 'last_name' : 'Doe', 'age' : 32}\n",
    "str1 = input('Please insert str1: ')\n",
    "print(str1 in dict1)"
   ]
  },
  {
   "cell_type": "markdown",
   "metadata": {
    "id": "c2RgbVaBFl_k"
   },
   "source": [
    "### 95.2 solution"
   ]
  },
  {
   "cell_type": "code",
   "execution_count": null,
   "metadata": {
    "colab": {
     "base_uri": "https://localhost:8080/"
    },
    "executionInfo": {
     "elapsed": 1410761,
     "status": "ok",
     "timestamp": 1616139064957,
     "user": {
      "displayName": "Tautology Madebyai",
      "photoUrl": "https://lh3.googleusercontent.com/a-/AOh14GgIuxJTOXeU2g-OcdBfWS1NSCgofk20ST_TdkDm=s64",
      "userId": "06969950300190082095"
     },
     "user_tz": -420
    },
    "id": "uLRy76ujFl_k",
    "outputId": "40493fd7-84e9-4cbc-92a3-ac79de5e039a"
   },
   "outputs": [
    {
     "name": "stdout",
     "output_type": "stream",
     "text": [
      "Please insert str1: first_name\n",
      "True\n"
     ]
    }
   ],
   "source": [
    "dict1 = {'first_name' : 'John', 'last_name' : 'Doe', 'age' : 32}\n",
    "str1 = input('Please insert str1: ')\n",
    "print(str1 in dict1.keys())"
   ]
  },
  {
   "cell_type": "markdown",
   "metadata": {
    "id": "CurMvEIZFl_k"
   },
   "source": [
    "## Question96"
   ]
  },
  {
   "cell_type": "code",
   "execution_count": null,
   "metadata": {
    "colab": {
     "base_uri": "https://localhost:8080/"
    },
    "executionInfo": {
     "elapsed": 1421433,
     "status": "ok",
     "timestamp": 1616139075657,
     "user": {
      "displayName": "Tautology Madebyai",
      "photoUrl": "https://lh3.googleusercontent.com/a-/AOh14GgIuxJTOXeU2g-OcdBfWS1NSCgofk20ST_TdkDm=s64",
      "userId": "06969950300190082095"
     },
     "user_tz": -420
    },
    "id": "vc3Ge2CtFl_k",
    "outputId": "2ac846c3-1d97-4164-91c1-79f3b3053ab5"
   },
   "outputs": [
    {
     "name": "stdout",
     "output_type": "stream",
     "text": [
      "Please insert str1: Doe\n",
      "True\n"
     ]
    }
   ],
   "source": [
    "dict1 = {'first_name' : 'John', 'last_name' : 'Doe', 'age' : 32}\n",
    "str1 = input('Please insert str1: ')\n",
    "print(str1 in dict1.values())"
   ]
  },
  {
   "cell_type": "markdown",
   "metadata": {
    "id": "bvCuCYzYFl_k"
   },
   "source": [
    "# -------------------- Set --------------------"
   ]
  },
  {
   "cell_type": "markdown",
   "metadata": {
    "id": "6toPGMyDFl_k"
   },
   "source": [
    "## Question97"
   ]
  },
  {
   "cell_type": "code",
   "execution_count": null,
   "metadata": {
    "colab": {
     "base_uri": "https://localhost:8080/"
    },
    "executionInfo": {
     "elapsed": 1421406,
     "status": "ok",
     "timestamp": 1616139075658,
     "user": {
      "displayName": "Tautology Madebyai",
      "photoUrl": "https://lh3.googleusercontent.com/a-/AOh14GgIuxJTOXeU2g-OcdBfWS1NSCgofk20ST_TdkDm=s64",
      "userId": "06969950300190082095"
     },
     "user_tz": -420
    },
    "id": "InxpfF6sFl_k",
    "outputId": "9ca931b4-ce34-4792-9701-ca6a61c5e313"
   },
   "outputs": [
    {
     "name": "stdout",
     "output_type": "stream",
     "text": [
      "{1, 2, 3, 'ii', 'iii', 'i'}\n",
      "<class 'set'>\n"
     ]
    }
   ],
   "source": [
    "set1 = {1, 2, 3, 'i', 'ii', 'iii'}\n",
    "print(set1)\n",
    "print(type(set1))"
   ]
  },
  {
   "cell_type": "markdown",
   "metadata": {
    "id": "r3zrDY2DFl_k"
   },
   "source": [
    "## Question98"
   ]
  },
  {
   "cell_type": "code",
   "execution_count": null,
   "metadata": {
    "colab": {
     "base_uri": "https://localhost:8080/"
    },
    "executionInfo": {
     "elapsed": 1421378,
     "status": "ok",
     "timestamp": 1616139075658,
     "user": {
      "displayName": "Tautology Madebyai",
      "photoUrl": "https://lh3.googleusercontent.com/a-/AOh14GgIuxJTOXeU2g-OcdBfWS1NSCgofk20ST_TdkDm=s64",
      "userId": "06969950300190082095"
     },
     "user_tz": -420
    },
    "id": "fS6jpxv6Fl_k",
    "outputId": "9c887a09-8d3e-444b-9952-188917b90339"
   },
   "outputs": [
    {
     "name": "stdout",
     "output_type": "stream",
     "text": [
      "1\n",
      "2\n",
      "3\n",
      "ii\n",
      "iii\n",
      "i\n"
     ]
    }
   ],
   "source": [
    "set1 = {1, 2, 3, 'i', 'ii', 'iii'}\n",
    "for s in set1:\n",
    "    print(s)"
   ]
  },
  {
   "cell_type": "markdown",
   "metadata": {
    "id": "vMBZrWZJFl_k"
   },
   "source": [
    "## Question99"
   ]
  },
  {
   "cell_type": "code",
   "execution_count": null,
   "metadata": {
    "colab": {
     "base_uri": "https://localhost:8080/"
    },
    "executionInfo": {
     "elapsed": 1421350,
     "status": "ok",
     "timestamp": 1616139075658,
     "user": {
      "displayName": "Tautology Madebyai",
      "photoUrl": "https://lh3.googleusercontent.com/a-/AOh14GgIuxJTOXeU2g-OcdBfWS1NSCgofk20ST_TdkDm=s64",
      "userId": "06969950300190082095"
     },
     "user_tz": -420
    },
    "id": "hbF4dfd9Fl_k",
    "outputId": "6df9e043-6fc1-489c-bcd6-210fcfb39e25"
   },
   "outputs": [
    {
     "name": "stdout",
     "output_type": "stream",
     "text": [
      "{1, 2, 3, 'iv', 'ii', 'iii', 'i'}\n"
     ]
    }
   ],
   "source": [
    "set1 = {1, 2, 3, 'i', 'ii', 'iii'}\n",
    "set1.add('iv')\n",
    "print(set1)"
   ]
  },
  {
   "cell_type": "markdown",
   "metadata": {
    "id": "AVqTe95XFl_k"
   },
   "source": [
    "## Question100"
   ]
  },
  {
   "cell_type": "code",
   "execution_count": null,
   "metadata": {
    "colab": {
     "base_uri": "https://localhost:8080/"
    },
    "executionInfo": {
     "elapsed": 1421322,
     "status": "ok",
     "timestamp": 1616139075658,
     "user": {
      "displayName": "Tautology Madebyai",
      "photoUrl": "https://lh3.googleusercontent.com/a-/AOh14GgIuxJTOXeU2g-OcdBfWS1NSCgofk20ST_TdkDm=s64",
      "userId": "06969950300190082095"
     },
     "user_tz": -420
    },
    "id": "fj7YyJljFl_l",
    "outputId": "44da5fca-e968-4bd0-cd68-f6d3d7fb7997"
   },
   "outputs": [
    {
     "name": "stdout",
     "output_type": "stream",
     "text": [
      "{1, 2, 3, 'ii', 'iii', 'i'}\n"
     ]
    }
   ],
   "source": [
    "set1 = {1, 2, 3, 'i', 'ii', 'iii'}\n",
    "set1.add(1)\n",
    "print(set1)"
   ]
  },
  {
   "cell_type": "markdown",
   "metadata": {
    "id": "voTGuxagFl_l"
   },
   "source": [
    "## Question101"
   ]
  },
  {
   "cell_type": "code",
   "execution_count": null,
   "metadata": {
    "colab": {
     "base_uri": "https://localhost:8080/"
    },
    "executionInfo": {
     "elapsed": 1499962,
     "status": "ok",
     "timestamp": 1616139154326,
     "user": {
      "displayName": "Tautology Madebyai",
      "photoUrl": "https://lh3.googleusercontent.com/a-/AOh14GgIuxJTOXeU2g-OcdBfWS1NSCgofk20ST_TdkDm=s64",
      "userId": "06969950300190082095"
     },
     "user_tz": -420
    },
    "id": "RAw-_a8EFl_l",
    "outputId": "73081dd1-76ab-410d-9a50-4b7a053cefd6"
   },
   "outputs": [
    {
     "name": "stdout",
     "output_type": "stream",
     "text": [
      "Please insert str1: x\n",
      "Please insert str2: y\n",
      "Please insert str3: z\n",
      "{'x', 'y', 'z'}\n"
     ]
    }
   ],
   "source": [
    "set1 = set()\n",
    "str1 = input('Please insert str1: ')\n",
    "str2 = input('Please insert str2: ')\n",
    "str3 = input('Please insert str3: ')\n",
    "set1.add(str1)\n",
    "set1.add(str2)\n",
    "set1.add(str3)\n",
    "print(set1)"
   ]
  },
  {
   "cell_type": "markdown",
   "metadata": {
    "id": "xsgbgTBAFl_l"
   },
   "source": [
    "## Question102"
   ]
  },
  {
   "cell_type": "code",
   "execution_count": null,
   "metadata": {
    "colab": {
     "base_uri": "https://localhost:8080/"
    },
    "executionInfo": {
     "elapsed": 1515055,
     "status": "ok",
     "timestamp": 1616139169447,
     "user": {
      "displayName": "Tautology Madebyai",
      "photoUrl": "https://lh3.googleusercontent.com/a-/AOh14GgIuxJTOXeU2g-OcdBfWS1NSCgofk20ST_TdkDm=s64",
      "userId": "06969950300190082095"
     },
     "user_tz": -420
    },
    "id": "5OtAM0NEFl_l",
    "outputId": "9de06446-2d90-479b-d49b-c2204977d8f3"
   },
   "outputs": [
    {
     "name": "stdout",
     "output_type": "stream",
     "text": [
      "Please insert str1: 1\n",
      "Please insert str2: a\n",
      "Please insert str3: c\n",
      "{'1', 'a', 'c'}\n"
     ]
    }
   ],
   "source": [
    "set1 = set()\n",
    "str1 = input('Please insert str1: ')\n",
    "str2 = input('Please insert str2: ')\n",
    "str3 = input('Please insert str3: ')\n",
    "set1.update({str1, str2, str3})\n",
    "print(set1)"
   ]
  },
  {
   "cell_type": "markdown",
   "metadata": {
    "id": "bw8f2j-yFl_l"
   },
   "source": [
    "## Question103"
   ]
  },
  {
   "cell_type": "code",
   "execution_count": null,
   "metadata": {
    "colab": {
     "base_uri": "https://localhost:8080/"
    },
    "executionInfo": {
     "elapsed": 1515027,
     "status": "ok",
     "timestamp": 1616139169447,
     "user": {
      "displayName": "Tautology Madebyai",
      "photoUrl": "https://lh3.googleusercontent.com/a-/AOh14GgIuxJTOXeU2g-OcdBfWS1NSCgofk20ST_TdkDm=s64",
      "userId": "06969950300190082095"
     },
     "user_tz": -420
    },
    "id": "D0VIvPFMFl_l",
    "outputId": "3082644b-2cba-413d-8cc9-2540d842ba39"
   },
   "outputs": [
    {
     "name": "stdout",
     "output_type": "stream",
     "text": [
      "{1, 2, 3, 'ii', 'iii'}\n"
     ]
    }
   ],
   "source": [
    "set1 = {1, 2, 3, 'i', 'ii', 'iii'}\n",
    "set1.remove('i')\n",
    "print(set1)"
   ]
  },
  {
   "cell_type": "markdown",
   "metadata": {
    "id": "1TtEoeG2Fl_l"
   },
   "source": [
    "## Question104"
   ]
  },
  {
   "cell_type": "code",
   "execution_count": null,
   "metadata": {
    "colab": {
     "base_uri": "https://localhost:8080/"
    },
    "executionInfo": {
     "elapsed": 1514999,
     "status": "ok",
     "timestamp": 1616139169447,
     "user": {
      "displayName": "Tautology Madebyai",
      "photoUrl": "https://lh3.googleusercontent.com/a-/AOh14GgIuxJTOXeU2g-OcdBfWS1NSCgofk20ST_TdkDm=s64",
      "userId": "06969950300190082095"
     },
     "user_tz": -420
    },
    "id": "D6Lt6cNuFl_l",
    "outputId": "202738c3-98a7-4641-93df-bb3c6006e442"
   },
   "outputs": [
    {
     "name": "stdout",
     "output_type": "stream",
     "text": [
      "6\n"
     ]
    }
   ],
   "source": [
    "set1 = {1, 2, 3, 'i', 'ii', 'iii'}\n",
    "print(len(set1))"
   ]
  },
  {
   "cell_type": "markdown",
   "metadata": {
    "id": "E12rgTh6Fl_l"
   },
   "source": [
    "## Question105"
   ]
  },
  {
   "cell_type": "code",
   "execution_count": null,
   "metadata": {
    "colab": {
     "base_uri": "https://localhost:8080/"
    },
    "executionInfo": {
     "elapsed": 1538903,
     "status": "ok",
     "timestamp": 1616139193379,
     "user": {
      "displayName": "Tautology Madebyai",
      "photoUrl": "https://lh3.googleusercontent.com/a-/AOh14GgIuxJTOXeU2g-OcdBfWS1NSCgofk20ST_TdkDm=s64",
      "userId": "06969950300190082095"
     },
     "user_tz": -420
    },
    "id": "HFe58tZ3Fl_l",
    "outputId": "74c28f32-6ff3-4969-dc90-204b23d7925c"
   },
   "outputs": [
    {
     "name": "stdout",
     "output_type": "stream",
     "text": [
      "Please insert numeric1: 2\n",
      "True\n"
     ]
    }
   ],
   "source": [
    "set1 = {1, 2, 3, 'i', 'ii', 'iii'}\n",
    "int1 = int(input('Please insert numeric1: '))\n",
    "print(int1 in set1)"
   ]
  },
  {
   "cell_type": "markdown",
   "metadata": {
    "id": "T7p9JC12Fl_l"
   },
   "source": [
    "## Question106"
   ]
  },
  {
   "cell_type": "code",
   "execution_count": null,
   "metadata": {
    "colab": {
     "base_uri": "https://localhost:8080/"
    },
    "executionInfo": {
     "elapsed": 1538876,
     "status": "ok",
     "timestamp": 1616139193380,
     "user": {
      "displayName": "Tautology Madebyai",
      "photoUrl": "https://lh3.googleusercontent.com/a-/AOh14GgIuxJTOXeU2g-OcdBfWS1NSCgofk20ST_TdkDm=s64",
      "userId": "06969950300190082095"
     },
     "user_tz": -420
    },
    "id": "zEzTMoCWFl_m",
    "outputId": "15d7d0f7-bdde-4ffc-b49b-b53474bc540d"
   },
   "outputs": [
    {
     "name": "stdout",
     "output_type": "stream",
     "text": [
      "{1, 2, 3, 4, 5, 6}\n"
     ]
    }
   ],
   "source": [
    "set1 = {1, 2, 3, 4, 5}\n",
    "set2 = {3, 4, 5, 6}\n",
    "print(set1 | set2)"
   ]
  },
  {
   "cell_type": "markdown",
   "metadata": {
    "id": "LYm2NFy_Fl_m"
   },
   "source": [
    "## Question107"
   ]
  },
  {
   "cell_type": "code",
   "execution_count": null,
   "metadata": {
    "colab": {
     "base_uri": "https://localhost:8080/"
    },
    "executionInfo": {
     "elapsed": 1538848,
     "status": "ok",
     "timestamp": 1616139193380,
     "user": {
      "displayName": "Tautology Madebyai",
      "photoUrl": "https://lh3.googleusercontent.com/a-/AOh14GgIuxJTOXeU2g-OcdBfWS1NSCgofk20ST_TdkDm=s64",
      "userId": "06969950300190082095"
     },
     "user_tz": -420
    },
    "id": "8lWTA7FvFl_m",
    "outputId": "292bd1d4-e995-45f0-cd1a-0a6e962d756b"
   },
   "outputs": [
    {
     "name": "stdout",
     "output_type": "stream",
     "text": [
      "{3, 4, 5}\n"
     ]
    }
   ],
   "source": [
    "set1 = {1, 2, 3, 4, 5}\n",
    "set2 = {3, 4, 5, 6}\n",
    "print(set1 & set2)"
   ]
  },
  {
   "cell_type": "markdown",
   "metadata": {
    "id": "LOR13zBaFl_m"
   },
   "source": [
    "## Question108"
   ]
  },
  {
   "cell_type": "code",
   "execution_count": null,
   "metadata": {
    "colab": {
     "base_uri": "https://localhost:8080/"
    },
    "executionInfo": {
     "elapsed": 1538820,
     "status": "ok",
     "timestamp": 1616139193380,
     "user": {
      "displayName": "Tautology Madebyai",
      "photoUrl": "https://lh3.googleusercontent.com/a-/AOh14GgIuxJTOXeU2g-OcdBfWS1NSCgofk20ST_TdkDm=s64",
      "userId": "06969950300190082095"
     },
     "user_tz": -420
    },
    "id": "hHpwn5N4Fl_m",
    "outputId": "dc5717a6-e4a1-4566-d4ba-353164ff3c33"
   },
   "outputs": [
    {
     "name": "stdout",
     "output_type": "stream",
     "text": [
      "{1, 2}\n"
     ]
    }
   ],
   "source": [
    "set1 = {1, 2, 3, 4, 5}\n",
    "set2 = {3, 4, 5, 6}\n",
    "print(set1 - set2)"
   ]
  },
  {
   "cell_type": "markdown",
   "metadata": {
    "id": "vH2LiQxPFl_m"
   },
   "source": [
    "## Question109"
   ]
  },
  {
   "cell_type": "code",
   "execution_count": null,
   "metadata": {
    "colab": {
     "base_uri": "https://localhost:8080/"
    },
    "executionInfo": {
     "elapsed": 1538792,
     "status": "ok",
     "timestamp": 1616139193380,
     "user": {
      "displayName": "Tautology Madebyai",
      "photoUrl": "https://lh3.googleusercontent.com/a-/AOh14GgIuxJTOXeU2g-OcdBfWS1NSCgofk20ST_TdkDm=s64",
      "userId": "06969950300190082095"
     },
     "user_tz": -420
    },
    "id": "wqzKNV9JFl_m",
    "outputId": "371ea15a-8ccd-4df8-ba9d-83d6fb6eff98"
   },
   "outputs": [
    {
     "name": "stdout",
     "output_type": "stream",
     "text": [
      "{6}\n"
     ]
    }
   ],
   "source": [
    "set1 = {1, 2, 3, 4, 5}\n",
    "set2 = {3, 4, 5, 6}\n",
    "print(set2 - set1)"
   ]
  },
  {
   "cell_type": "markdown",
   "metadata": {
    "id": "j3fcVjSvFl_m"
   },
   "source": [
    "## Question110"
   ]
  },
  {
   "cell_type": "code",
   "execution_count": null,
   "metadata": {
    "colab": {
     "base_uri": "https://localhost:8080/"
    },
    "executionInfo": {
     "elapsed": 1538764,
     "status": "ok",
     "timestamp": 1616139193380,
     "user": {
      "displayName": "Tautology Madebyai",
      "photoUrl": "https://lh3.googleusercontent.com/a-/AOh14GgIuxJTOXeU2g-OcdBfWS1NSCgofk20ST_TdkDm=s64",
      "userId": "06969950300190082095"
     },
     "user_tz": -420
    },
    "id": "5DuPCyR0Fl_m",
    "outputId": "4c3b857b-8ed0-4538-bd34-35550f66f1f2"
   },
   "outputs": [
    {
     "name": "stdout",
     "output_type": "stream",
     "text": [
      "{1, 2, 6}\n"
     ]
    }
   ],
   "source": [
    "set1 = {1, 2, 3, 4, 5}\n",
    "set2 = {3, 4, 5, 6}\n",
    "print(set1 ^ set2)"
   ]
  }
 ],
 "metadata": {
  "colab": {
   "collapsed_sections": [],
   "name": "Ch4 Data Structure.ipynb",
   "provenance": []
  },
  "kernelspec": {
   "display_name": "Python 3 (ipykernel)",
   "language": "python",
   "name": "python3"
  },
  "language_info": {
   "codemirror_mode": {
    "name": "ipython",
    "version": 3
   },
   "file_extension": ".py",
   "mimetype": "text/x-python",
   "name": "python",
   "nbconvert_exporter": "python",
   "pygments_lexer": "ipython3",
   "version": "3.8.10"
  }
 },
 "nbformat": 4,
 "nbformat_minor": 1
}
